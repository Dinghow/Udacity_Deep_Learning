{
 "cells": [
  {
   "cell_type": "markdown",
   "metadata": {
    "colab_type": "text",
    "id": "5hIbr52I7Z7U"
   },
   "source": [
    "Deep Learning\n",
    "=============\n",
    "\n",
    "Assignment 1\n",
    "------------\n",
    "\n",
    "The objective of this assignment is to learn about simple data curation practices, and familiarize you with some of the data we'll be reusing later.\n",
    "\n",
    "This notebook uses the [notMNIST](http://yaroslavvb.blogspot.com/2011/09/notmnist-dataset.html) dataset to be used with python experiments. This dataset is designed to look like the classic [MNIST](http://yann.lecun.com/exdb/mnist/) dataset, while looking a little more like real data: it's a harder task, and the data is a lot less 'clean' than MNIST."
   ]
  },
  {
   "cell_type": "code",
   "execution_count": 1,
   "metadata": {
    "cellView": "both",
    "colab": {
     "autoexec": {
      "startup": false,
      "wait_interval": 0
     }
    },
    "colab_type": "code",
    "id": "apJbCsBHl-2A"
   },
   "outputs": [],
   "source": [
    "# These are all the modules we'll be using later. Make sure you can import them\n",
    "# before proceeding further.\n",
    "from __future__ import print_function\n",
    "import imageio\n",
    "import matplotlib.pyplot as plt\n",
    "import numpy as np\n",
    "import os\n",
    "import sys\n",
    "import tarfile\n",
    "from IPython.display import display, Image\n",
    "from sklearn.linear_model import LogisticRegression\n",
    "from six.moves.urllib.request import urlretrieve\n",
    "from six.moves import cPickle as pickle\n",
    "\n",
    "# Config the matplotlib backend as plotting inline in IPython\n",
    "%matplotlib inline"
   ]
  },
  {
   "cell_type": "markdown",
   "metadata": {
    "colab_type": "text",
    "id": "jNWGtZaXn-5j"
   },
   "source": [
    "First, we'll download the dataset to our local machine. The data consists of characters rendered in a variety of fonts on a 28x28 image. The labels are limited to 'A' through 'J' (10 classes). The training set has about 500k and the testset 19000 labeled examples. Given these sizes, it should be possible to train models quickly on any machine."
   ]
  },
  {
   "cell_type": "code",
   "execution_count": 2,
   "metadata": {
    "cellView": "both",
    "colab": {
     "autoexec": {
      "startup": false,
      "wait_interval": 0
     },
     "output_extras": [
      {
       "item_id": 1
      }
     ]
    },
    "colab_type": "code",
    "executionInfo": {
     "elapsed": 186058,
     "status": "ok",
     "timestamp": 1444485672507,
     "user": {
      "color": "#1FA15D",
      "displayName": "Vincent Vanhoucke",
      "isAnonymous": false,
      "isMe": true,
      "permissionId": "05076109866853157986",
      "photoUrl": "//lh6.googleusercontent.com/-cCJa7dTDcgQ/AAAAAAAAAAI/AAAAAAAACgw/r2EZ_8oYer4/s50-c-k-no/photo.jpg",
      "sessionId": "2a0a5e044bb03b66",
      "userId": "102167687554210253930"
     },
     "user_tz": 420
    },
    "id": "EYRJ4ICW6-da",
    "outputId": "0d0f85df-155f-4a89-8e7e-ee32df36ec8d"
   },
   "outputs": [
    {
     "name": "stdout",
     "output_type": "stream",
     "text": [
      "Found and verified ./notMNIST_large.tar.gz\n",
      "Found and verified ./notMNIST_small.tar.gz\n"
     ]
    }
   ],
   "source": [
    "url = 'https://commondatastorage.googleapis.com/books1000/'\n",
    "last_percent_reported = None\n",
    "data_root = '.' # Change me to store data elsewhere\n",
    "\n",
    "def download_progress_hook(count, blockSize, totalSize):\n",
    "  \"\"\"A hook to report the progress of a download. This is mostly intended for users with\n",
    "  slow internet connections. Reports every 5% change in download progress.\n",
    "  \"\"\"\n",
    "  global last_percent_reported\n",
    "  percent = int(count * blockSize * 100 / totalSize)\n",
    "\n",
    "  if last_percent_reported != percent:\n",
    "    if percent % 5 == 0:\n",
    "      sys.stdout.write(\"%s%%\" % percent)\n",
    "      sys.stdout.flush()\n",
    "    else:\n",
    "      sys.stdout.write(\".\")\n",
    "      sys.stdout.flush()\n",
    "      \n",
    "    last_percent_reported = percent\n",
    "        \n",
    "def maybe_download(filename, expected_bytes, force=False):\n",
    "  \"\"\"Download a file if not present, and make sure it's the right size.\"\"\"\n",
    "  dest_filename = os.path.join(data_root, filename)\n",
    "  if force or not os.path.exists(dest_filename):\n",
    "    print('Attempting to download:', filename) \n",
    "    filename, _ = urlretrieve(url + filename, dest_filename, reporthook=download_progress_hook)\n",
    "    print('\\nDownload Complete!')\n",
    "  statinfo = os.stat(dest_filename)\n",
    "  if statinfo.st_size == expected_bytes:\n",
    "    print('Found and verified', dest_filename)\n",
    "  else:\n",
    "    raise Exception(\n",
    "      'Failed to verify ' + dest_filename + '. Can you get to it with a browser?')\n",
    "  return dest_filename\n",
    "\n",
    "train_filename = maybe_download('notMNIST_large.tar.gz', 247336696)\n",
    "test_filename = maybe_download('notMNIST_small.tar.gz', 8458043)"
   ]
  },
  {
   "cell_type": "markdown",
   "metadata": {
    "colab_type": "text",
    "id": "cC3p0oEyF8QT"
   },
   "source": [
    "Extract the dataset from the compressed .tar.gz file.\n",
    "This should give you a set of directories, labeled A through J."
   ]
  },
  {
   "cell_type": "code",
   "execution_count": 3,
   "metadata": {
    "cellView": "both",
    "colab": {
     "autoexec": {
      "startup": false,
      "wait_interval": 0
     },
     "output_extras": [
      {
       "item_id": 1
      }
     ]
    },
    "colab_type": "code",
    "executionInfo": {
     "elapsed": 186055,
     "status": "ok",
     "timestamp": 1444485672525,
     "user": {
      "color": "#1FA15D",
      "displayName": "Vincent Vanhoucke",
      "isAnonymous": false,
      "isMe": true,
      "permissionId": "05076109866853157986",
      "photoUrl": "//lh6.googleusercontent.com/-cCJa7dTDcgQ/AAAAAAAAAAI/AAAAAAAACgw/r2EZ_8oYer4/s50-c-k-no/photo.jpg",
      "sessionId": "2a0a5e044bb03b66",
      "userId": "102167687554210253930"
     },
     "user_tz": 420
    },
    "id": "H8CBE-WZ8nmj",
    "outputId": "ef6c790c-2513-4b09-962e-27c79390c762"
   },
   "outputs": [
    {
     "name": "stdout",
     "output_type": "stream",
     "text": [
      "./notMNIST_large already present - Skipping extraction of ./notMNIST_large.tar.gz.\n",
      "['./notMNIST_large/A', './notMNIST_large/B', './notMNIST_large/C', './notMNIST_large/D', './notMNIST_large/E', './notMNIST_large/F', './notMNIST_large/G', './notMNIST_large/H', './notMNIST_large/I', './notMNIST_large/J']\n",
      "./notMNIST_small already present - Skipping extraction of ./notMNIST_small.tar.gz.\n",
      "['./notMNIST_small/A', './notMNIST_small/B', './notMNIST_small/C', './notMNIST_small/D', './notMNIST_small/E', './notMNIST_small/F', './notMNIST_small/G', './notMNIST_small/H', './notMNIST_small/I', './notMNIST_small/J']\n"
     ]
    }
   ],
   "source": [
    "num_classes = 10\n",
    "np.random.seed(133)\n",
    "\n",
    "def maybe_extract(filename, force=False):\n",
    "  root = os.path.splitext(os.path.splitext(filename)[0])[0]  # remove .tar.gz\n",
    "  if os.path.isdir(root) and not force:\n",
    "    # You may override by setting force=True.\n",
    "    print('%s already present - Skipping extraction of %s.' % (root, filename))\n",
    "  else:\n",
    "    print('Extracting data for %s. This may take a while. Please wait.' % root)\n",
    "    tar = tarfile.open(filename)\n",
    "    sys.stdout.flush()\n",
    "    tar.extractall(data_root)\n",
    "    tar.close()\n",
    "  data_folders = [\n",
    "    os.path.join(root, d) for d in sorted(os.listdir(root))\n",
    "    if os.path.isdir(os.path.join(root, d))]\n",
    "  if len(data_folders) != num_classes:\n",
    "    raise Exception(\n",
    "      'Expected %d folders, one per class. Found %d instead.' % (\n",
    "        num_classes, len(data_folders)))\n",
    "  print(data_folders)\n",
    "  return data_folders\n",
    "  \n",
    "train_folders = maybe_extract(train_filename)\n",
    "test_folders = maybe_extract(test_filename)"
   ]
  },
  {
   "cell_type": "markdown",
   "metadata": {
    "colab_type": "text",
    "id": "4riXK3IoHgx6"
   },
   "source": [
    "---\n",
    "Problem 1\n",
    "---------\n",
    "\n",
    "Let's take a peek at some of the data to make sure it looks sensible. Each exemplar should be an image of a character A through J rendered in a different font. Display a sample of the images that we just downloaded. Hint: you can use the package IPython.display.\n",
    "\n",
    "---"
   ]
  },
  {
   "cell_type": "markdown",
   "metadata": {
    "colab_type": "text",
    "id": "PBdkjESPK8tw"
   },
   "source": [
    "Now let's load the data in a more manageable format. Since, depending on your computer setup you might not be able to fit it all in memory, we'll load each class into a separate dataset, store them on disk and curate them independently. Later we'll merge them into a single dataset of manageable size.\n",
    "\n",
    "We'll convert the entire dataset into a 3D array (image index, x, y) of floating point values, normalized to have approximately zero mean and standard deviation ~0.5 to make training easier down the road. \n",
    "\n",
    "A few images might not be readable, we'll just skip them."
   ]
  },
  {
   "cell_type": "code",
   "execution_count": 4,
   "metadata": {
    "cellView": "both",
    "colab": {
     "autoexec": {
      "startup": false,
      "wait_interval": 0
     },
     "output_extras": [
      {
       "item_id": 30
      }
     ]
    },
    "colab_type": "code",
    "executionInfo": {
     "elapsed": 399874,
     "status": "ok",
     "timestamp": 1444485886378,
     "user": {
      "color": "#1FA15D",
      "displayName": "Vincent Vanhoucke",
      "isAnonymous": false,
      "isMe": true,
      "permissionId": "05076109866853157986",
      "photoUrl": "//lh6.googleusercontent.com/-cCJa7dTDcgQ/AAAAAAAAAAI/AAAAAAAACgw/r2EZ_8oYer4/s50-c-k-no/photo.jpg",
      "sessionId": "2a0a5e044bb03b66",
      "userId": "102167687554210253930"
     },
     "user_tz": 420
    },
    "id": "h7q0XhG3MJdf",
    "outputId": "92c391bb-86ff-431d-9ada-315568a19e59"
   },
   "outputs": [
    {
     "name": "stdout",
     "output_type": "stream",
     "text": [
      "./notMNIST_large/A.pickle already present - Skipping pickling.\n",
      "./notMNIST_large/B.pickle already present - Skipping pickling.\n",
      "./notMNIST_large/C.pickle already present - Skipping pickling.\n",
      "./notMNIST_large/D.pickle already present - Skipping pickling.\n",
      "./notMNIST_large/E.pickle already present - Skipping pickling.\n",
      "./notMNIST_large/F.pickle already present - Skipping pickling.\n",
      "./notMNIST_large/G.pickle already present - Skipping pickling.\n",
      "./notMNIST_large/H.pickle already present - Skipping pickling.\n",
      "./notMNIST_large/I.pickle already present - Skipping pickling.\n",
      "./notMNIST_large/J.pickle already present - Skipping pickling.\n",
      "./notMNIST_small/A.pickle already present - Skipping pickling.\n",
      "./notMNIST_small/B.pickle already present - Skipping pickling.\n",
      "./notMNIST_small/C.pickle already present - Skipping pickling.\n",
      "./notMNIST_small/D.pickle already present - Skipping pickling.\n",
      "./notMNIST_small/E.pickle already present - Skipping pickling.\n",
      "./notMNIST_small/F.pickle already present - Skipping pickling.\n",
      "./notMNIST_small/G.pickle already present - Skipping pickling.\n",
      "./notMNIST_small/H.pickle already present - Skipping pickling.\n",
      "./notMNIST_small/I.pickle already present - Skipping pickling.\n",
      "./notMNIST_small/J.pickle already present - Skipping pickling.\n"
     ]
    }
   ],
   "source": [
    "image_size = 28  # Pixel width and height.\n",
    "pixel_depth = 255.0  # Number of levels per pixel.\n",
    "\n",
    "def load_letter(folder, min_num_images):\n",
    "  \"\"\"Load the data for a single letter label.\"\"\"\n",
    "  image_files = os.listdir(folder)\n",
    "  dataset = np.ndarray(shape=(len(image_files), image_size, image_size),\n",
    "                         dtype=np.float32)\n",
    "  print(folder)\n",
    "  num_images = 0\n",
    "  for image in image_files:\n",
    "    image_file = os.path.join(folder, image)\n",
    "    try:\n",
    "      image_data = (imageio.imread(image_file).astype(float) - \n",
    "                    pixel_depth / 2) / pixel_depth\n",
    "      if image_data.shape != (image_size, image_size):\n",
    "        raise Exception('Unexpected image shape: %s' % str(image_data.shape))\n",
    "      dataset[num_images, :, :] = image_data\n",
    "      num_images = num_images + 1\n",
    "    except (IOError, ValueError) as e:\n",
    "      print('Could not read:', image_file, ':', e, '- it\\'s ok, skipping.')\n",
    "    \n",
    "  dataset = dataset[0:num_images, :, :]\n",
    "  if num_images < min_num_images:\n",
    "    raise Exception('Many fewer images than expected: %d < %d' %\n",
    "                    (num_images, min_num_images))\n",
    "    \n",
    "  print('Full dataset tensor:', dataset.shape)\n",
    "  print('Mean:', np.mean(dataset))\n",
    "  print('Standard deviation:', np.std(dataset))\n",
    "  return dataset\n",
    "        \n",
    "def maybe_pickle(data_folders, min_num_images_per_class, force=False):\n",
    "  dataset_names = []\n",
    "  for folder in data_folders:\n",
    "    set_filename = folder + '.pickle'\n",
    "    dataset_names.append(set_filename)\n",
    "    if os.path.exists(set_filename) and not force:\n",
    "      # You may override by setting force=True.\n",
    "      print('%s already present - Skipping pickling.' % set_filename)\n",
    "    else:\n",
    "      print('Pickling %s.' % set_filename)\n",
    "      dataset = load_letter(folder, min_num_images_per_class)\n",
    "      try:\n",
    "        with open(set_filename, 'wb') as f:\n",
    "          pickle.dump(dataset, f, pickle.HIGHEST_PROTOCOL)\n",
    "      except Exception as e:\n",
    "        print('Unable to save data to', set_filename, ':', e)\n",
    "  \n",
    "  return dataset_names\n",
    "\n",
    "train_datasets = maybe_pickle(train_folders, 45000)\n",
    "test_datasets = maybe_pickle(test_folders, 1800)"
   ]
  },
  {
   "cell_type": "code",
   "execution_count": 10,
   "metadata": {},
   "outputs": [],
   "source": [
    "import random\n",
    "\n",
    "def disp_samples(data_folders):\n",
    "  for folder in data_folders:\n",
    "    print(folder)\n",
    "    folder_path = folder + '.pickle'\n",
    "    with open(folder_path, 'rb') as f:\n",
    "        sample = pickle.load(f)\n",
    "        print(sample.shape[0])\n",
    "        size = sample.shape[0]\n",
    "\n",
    "        plt.imshow(sample[random.randint(0,size)])\n",
    "        plt.show()"
   ]
  },
  {
   "cell_type": "code",
   "execution_count": 11,
   "metadata": {},
   "outputs": [
    {
     "name": "stdout",
     "output_type": "stream",
     "text": [
      "./notMNIST_large/A\n",
      "52909\n"
     ]
    },
    {
     "data": {
      "image/png": "[encoded data removed]",
      "text/plain": [
       "<Figure size 432x288 with 1 Axes>"
      ]
     },
     "metadata": {},
     "output_type": "display_data"
    },
    {
     "name": "stdout",
     "output_type": "stream",
     "text": [
      "./notMNIST_large/B\n",
      "52911\n"
     ]
    },
    {
     "data": {
      "image/png": "[encoded data removed]",
      "text/plain": [
       "<Figure size 432x288 with 1 Axes>"
      ]
     },
     "metadata": {},
     "output_type": "display_data"
    },
    {
     "name": "stdout",
     "output_type": "stream",
     "text": [
      "./notMNIST_large/C\n",
      "52912\n"
     ]
    },
    {
     "data": {
      "image/png": "[encoded data removed]",
      "text/plain": [
       "<Figure size 432x288 with 1 Axes>"
      ]
     },
     "metadata": {},
     "output_type": "display_data"
    },
    {
     "name": "stdout",
     "output_type": "stream",
     "text": [
      "./notMNIST_large/D\n",
      "52911\n"
     ]
    },
    {
     "data": {
      "image/png": "[encoded data removed]",
      "text/plain": [
       "<Figure size 432x288 with 1 Axes>"
      ]
     },
     "metadata": {},
     "output_type": "display_data"
    },
    {
     "name": "stdout",
     "output_type": "stream",
     "text": [
      "./notMNIST_large/E\n",
      "52912\n"
     ]
    },
    {
     "data": {
      "image/png": "[encoded data removed]",
      "text/plain": [
       "<Figure size 432x288 with 1 Axes>"
      ]
     },
     "metadata": {},
     "output_type": "display_data"
    },
    {
     "name": "stdout",
     "output_type": "stream",
     "text": [
      "./notMNIST_large/F\n",
      "52912\n"
     ]
    },
    {
     "data": {
      "image/png": "[encoded data removed]",
      "text/plain": [
       "<Figure size 432x288 with 1 Axes>"
      ]
     },
     "metadata": {},
     "output_type": "display_data"
    },
    {
     "name": "stdout",
     "output_type": "stream",
     "text": [
      "./notMNIST_large/G\n",
      "52912\n"
     ]
    },
    {
     "data": {
      "image/png": "[encoded data removed]",
      "text/plain": [
       "<Figure size 432x288 with 1 Axes>"
      ]
     },
     "metadata": {},
     "output_type": "display_data"
    },
    {
     "name": "stdout",
     "output_type": "stream",
     "text": [
      "./notMNIST_large/H\n",
      "52912\n"
     ]
    },
    {
     "data": {
      "image/png": "[encoded data removed]",
      "text/plain": [
       "<Figure size 432x288 with 1 Axes>"
      ]
     },
     "metadata": {},
     "output_type": "display_data"
    },
    {
     "name": "stdout",
     "output_type": "stream",
     "text": [
      "./notMNIST_large/I\n",
      "52912\n"
     ]
    },
    {
     "data": {
      "image/png": "[encoded data removed]",
      "text/plain": [
       "<Figure size 432x288 with 1 Axes>"
      ]
     },
     "metadata": {},
     "output_type": "display_data"
    },
    {
     "name": "stdout",
     "output_type": "stream",
     "text": [
      "./notMNIST_large/J\n",
      "52911\n"
     ]
    },
    {
     "data": {
      "image/png": "[encoded data removed]",
      "text/plain": [
       "<Figure size 432x288 with 1 Axes>"
      ]
     },
     "metadata": {},
     "output_type": "display_data"
    },
    {
     "name": "stdout",
     "output_type": "stream",
     "text": [
      "./notMNIST_small/A\n",
      "1872\n"
     ]
    },
    {
     "data": {
      "image/png": "[encoded data removed]",
      "text/plain": [
       "<Figure size 432x288 with 1 Axes>"
      ]
     },
     "metadata": {},
     "output_type": "display_data"
    },
    {
     "name": "stdout",
     "output_type": "stream",
     "text": [
      "./notMNIST_small/B\n",
      "1873\n"
     ]
    },
    {
     "data": {
      "image/png": "[encoded data removed]",
      "text/plain": [
       "<Figure size 432x288 with 1 Axes>"
      ]
     },
     "metadata": {},
     "output_type": "display_data"
    },
    {
     "name": "stdout",
     "output_type": "stream",
     "text": [
      "./notMNIST_small/C\n",
      "1873\n"
     ]
    },
    {
     "data": {
      "image/png": "[encoded data removed]",
      "text/plain": [
       "<Figure size 432x288 with 1 Axes>"
      ]
     },
     "metadata": {},
     "output_type": "display_data"
    },
    {
     "name": "stdout",
     "output_type": "stream",
     "text": [
      "./notMNIST_small/D\n",
      "1873\n"
     ]
    },
    {
     "data": {
      "image/png": "[encoded data removed]",
      "text/plain": [
       "<Figure size 432x288 with 1 Axes>"
      ]
     },
     "metadata": {},
     "output_type": "display_data"
    },
    {
     "name": "stdout",
     "output_type": "stream",
     "text": [
      "./notMNIST_small/E\n",
      "1873\n"
     ]
    },
    {
     "data": {
      "image/png": "[encoded data removed]",
      "text/plain": [
       "<Figure size 432x288 with 1 Axes>"
      ]
     },
     "metadata": {},
     "output_type": "display_data"
    },
    {
     "name": "stdout",
     "output_type": "stream",
     "text": [
      "./notMNIST_small/F\n",
      "1872\n"
     ]
    },
    {
     "data": {
      "image/png": "[encoded data removed]",
      "text/plain": [
       "<Figure size 432x288 with 1 Axes>"
      ]
     },
     "metadata": {},
     "output_type": "display_data"
    },
    {
     "name": "stdout",
     "output_type": "stream",
     "text": [
      "./notMNIST_small/G\n",
      "1872\n"
     ]
    },
    {
     "data": {
      "image/png": "[encoded data removed]",
      "text/plain": [
       "<Figure size 432x288 with 1 Axes>"
      ]
     },
     "metadata": {},
     "output_type": "display_data"
    },
    {
     "name": "stdout",
     "output_type": "stream",
     "text": [
      "./notMNIST_small/H\n",
      "1872\n"
     ]
    },
    {
     "data": {
      "image/png": "[encoded data removed]",
      "text/plain": [
       "<Figure size 432x288 with 1 Axes>"
      ]
     },
     "metadata": {},
     "output_type": "display_data"
    },
    {
     "name": "stdout",
     "output_type": "stream",
     "text": [
      "./notMNIST_small/I\n",
      "1872\n"
     ]
    },
    {
     "data": {
      "image/png": "[encoded data removed]",
      "text/plain": [
       "<Figure size 432x288 with 1 Axes>"
      ]
     },
     "metadata": {},
     "output_type": "display_data"
    },
    {
     "name": "stdout",
     "output_type": "stream",
     "text": [
      "./notMNIST_small/J\n",
      "1872\n"
     ]
    },
    {
     "data": {
      "image/png": "[encoded data removed]",
      "text/plain": [
       "<Figure size 432x288 with 1 Axes>"
      ]
     },
     "metadata": {},
     "output_type": "display_data"
    }
   ],
   "source": [
    "disp_samples(train_folders)\n",
    "disp_samples(test_folders)"
   ]
  },
  {
   "cell_type": "markdown",
   "metadata": {
    "colab_type": "text",
    "id": "vUdbskYE2d87"
   },
   "source": [
    "---\n",
    "Problem 2\n",
    "---------\n",
    "\n",
    "Let's verify that the data still looks good. Displaying a sample of the labels and images from the ndarray. Hint: you can use matplotlib.pyplot.\n",
    "\n",
    "---"
   ]
  },
  {
   "cell_type": "code",
   "execution_count": 20,
   "metadata": {},
   "outputs": [],
   "source": [
    "def disp_sample_pickles(data_folders):\n",
    "    folder = random.sample(data_folders, 1)\n",
    "    print(folder)\n",
    "    folder_path = folder[0] + '.pickle'\n",
    "    dataset = pickle.load(open(folder_path,\"rb\"))\n",
    "    plt.suptitle(''.join(folder)[-1])\n",
    "    item = random.sample(list(dataset), 8)\n",
    "    for i, item in enumerate(items):\n",
    "        plt.subplot(2, 4, i+1)\n",
    "        plt.axis('off')\n",
    "        plt.imshow(item)"
   ]
  },
  {
   "cell_type": "code",
   "execution_count": 21,
   "metadata": {},
   "outputs": [
    {
     "name": "stdout",
     "output_type": "stream",
     "text": [
      "['./notMNIST_large/B']\n"
     ]
    },
    {
     "ename": "NameError",
     "evalue": "name 'items' is not defined",
     "output_type": "error",
     "traceback": [
      "\u001b[0;31m---------------------------------------------------------------------------\u001b[0m",
      "\u001b[0;31mNameError\u001b[0m                                 Traceback (most recent call last)",
      "\u001b[0;32m<ipython-input-21-59a802cdef4c>\u001b[0m in \u001b[0;36m<module>\u001b[0;34m()\u001b[0m\n\u001b[0;32m----> 1\u001b[0;31m \u001b[0mdisp_sample_pickles\u001b[0m\u001b[0;34m(\u001b[0m\u001b[0mtrain_folders\u001b[0m\u001b[0;34m)\u001b[0m\u001b[0;34m\u001b[0m\u001b[0m\n\u001b[0m",
      "\u001b[0;32m<ipython-input-20-c4efd7cbbe24>\u001b[0m in \u001b[0;36mdisp_sample_pickles\u001b[0;34m(data_folders)\u001b[0m\n\u001b[1;32m      6\u001b[0m     \u001b[0mplt\u001b[0m\u001b[0;34m.\u001b[0m\u001b[0msuptitle\u001b[0m\u001b[0;34m(\u001b[0m\u001b[0;34m''\u001b[0m\u001b[0;34m.\u001b[0m\u001b[0mjoin\u001b[0m\u001b[0;34m(\u001b[0m\u001b[0mfolder\u001b[0m\u001b[0;34m)\u001b[0m\u001b[0;34m[\u001b[0m\u001b[0;34m-\u001b[0m\u001b[0;36m1\u001b[0m\u001b[0;34m]\u001b[0m\u001b[0;34m)\u001b[0m\u001b[0;34m\u001b[0m\u001b[0m\n\u001b[1;32m      7\u001b[0m     \u001b[0mitem\u001b[0m \u001b[0;34m=\u001b[0m \u001b[0mrandom\u001b[0m\u001b[0;34m.\u001b[0m\u001b[0msample\u001b[0m\u001b[0;34m(\u001b[0m\u001b[0mlist\u001b[0m\u001b[0;34m(\u001b[0m\u001b[0mdataset\u001b[0m\u001b[0;34m)\u001b[0m\u001b[0;34m,\u001b[0m \u001b[0;36m8\u001b[0m\u001b[0;34m)\u001b[0m\u001b[0;34m\u001b[0m\u001b[0m\n\u001b[0;32m----> 8\u001b[0;31m     \u001b[0;32mfor\u001b[0m \u001b[0mi\u001b[0m\u001b[0;34m,\u001b[0m \u001b[0mitem\u001b[0m \u001b[0;32min\u001b[0m \u001b[0menumerate\u001b[0m\u001b[0;34m(\u001b[0m\u001b[0mitems\u001b[0m\u001b[0;34m)\u001b[0m\u001b[0;34m:\u001b[0m\u001b[0;34m\u001b[0m\u001b[0m\n\u001b[0m\u001b[1;32m      9\u001b[0m         \u001b[0mplt\u001b[0m\u001b[0;34m.\u001b[0m\u001b[0msubplot\u001b[0m\u001b[0;34m(\u001b[0m\u001b[0;36m2\u001b[0m\u001b[0;34m,\u001b[0m \u001b[0;36m4\u001b[0m\u001b[0;34m,\u001b[0m \u001b[0mi\u001b[0m\u001b[0;34m+\u001b[0m\u001b[0;36m1\u001b[0m\u001b[0;34m)\u001b[0m\u001b[0;34m\u001b[0m\u001b[0m\n\u001b[1;32m     10\u001b[0m         \u001b[0mplt\u001b[0m\u001b[0;34m.\u001b[0m\u001b[0maxis\u001b[0m\u001b[0;34m(\u001b[0m\u001b[0;34m'off'\u001b[0m\u001b[0;34m)\u001b[0m\u001b[0;34m\u001b[0m\u001b[0m\n",
      "\u001b[0;31mNameError\u001b[0m: name 'items' is not defined"
     ]
    },
    {
     "data": {
      "text/plain": [
       "<Figure size 432x288 with 0 Axes>"
      ]
     },
     "metadata": {},
     "output_type": "display_data"
    }
   ],
   "source": [
    "disp_sample_pickles(train_folders)"
   ]
  },
  {
   "cell_type": "markdown",
   "metadata": {
    "colab_type": "text",
    "id": "cYznx5jUwzoO"
   },
   "source": [
    "---\n",
    "Problem 3\n",
    "---------\n",
    "Another check: we expect the data to be balanced across classes. Verify that.\n",
    "\n",
    "---"
   ]
  },
  {
   "cell_type": "code",
   "execution_count": 7,
   "metadata": {},
   "outputs": [],
   "source": [
    "# Check the data size of classes\n",
    "def show_size(data_folders):\n",
    "    for folder in data_folders:\n",
    "        folder_path = folder + '.pickle'\n",
    "        sample = pickle.load(open(folder_path,\"r\"))\n",
    "        print('The size of '+ folder +' is:' + str(sample.shape[0]))"
   ]
  },
  {
   "cell_type": "code",
   "execution_count": 21,
   "metadata": {},
   "outputs": [
    {
     "name": "stdout",
     "output_type": "stream",
     "text": [
      "The size of ./notMNIST_large/A is:52909\n",
      "The size of ./notMNIST_large/B is:52911\n",
      "The size of ./notMNIST_large/C is:52912\n",
      "The size of ./notMNIST_large/D is:52911\n",
      "The size of ./notMNIST_large/E is:52912\n",
      "The size of ./notMNIST_large/F is:52912\n",
      "The size of ./notMNIST_large/G is:52912\n",
      "The size of ./notMNIST_large/H is:52912\n",
      "The size of ./notMNIST_large/I is:52912\n",
      "The size of ./notMNIST_large/J is:52911\n",
      "The size of ./notMNIST_small/A is:1872\n",
      "The size of ./notMNIST_small/B is:1873\n",
      "The size of ./notMNIST_small/C is:1873\n",
      "The size of ./notMNIST_small/D is:1873\n",
      "The size of ./notMNIST_small/E is:1873\n",
      "The size of ./notMNIST_small/F is:1872\n",
      "The size of ./notMNIST_small/G is:1872\n",
      "The size of ./notMNIST_small/H is:1872\n",
      "The size of ./notMNIST_small/I is:1872\n",
      "The size of ./notMNIST_small/J is:1872\n"
     ]
    }
   ],
   "source": [
    "show_size(train_folders)\n",
    "show_size(test_folders)"
   ]
  },
  {
   "cell_type": "markdown",
   "metadata": {
    "colab_type": "text",
    "id": "LA7M7K22ynCt"
   },
   "source": [
    "Merge and prune the training data as needed. Depending on your computer setup, you might not be able to fit it all in memory, and you can tune `train_size` as needed. The labels will be stored into a separate array of integers 0 through 9.\n",
    "\n",
    "Also create a validation dataset for hyperparameter tuning."
   ]
  },
  {
   "cell_type": "code",
   "execution_count": 145,
   "metadata": {
    "cellView": "both",
    "colab": {
     "autoexec": {
      "startup": false,
      "wait_interval": 0
     },
     "output_extras": [
      {
       "item_id": 1
      }
     ]
    },
    "colab_type": "code",
    "executionInfo": {
     "elapsed": 411281,
     "status": "ok",
     "timestamp": 1444485897869,
     "user": {
      "color": "#1FA15D",
      "displayName": "Vincent Vanhoucke",
      "isAnonymous": false,
      "isMe": true,
      "permissionId": "05076109866853157986",
      "photoUrl": "//lh6.googleusercontent.com/-cCJa7dTDcgQ/AAAAAAAAAAI/AAAAAAAACgw/r2EZ_8oYer4/s50-c-k-no/photo.jpg",
      "sessionId": "2a0a5e044bb03b66",
      "userId": "102167687554210253930"
     },
     "user_tz": 420
    },
    "id": "s3mWgZLpyuzq",
    "outputId": "8af66da6-902d-4719-bedc-7c9fb7ae7948"
   },
   "outputs": [
    {
     "name": "stdout",
     "output_type": "stream",
     "text": [
      "10000\n",
      "(10000, 28, 28)\n",
      "(10000,)\n",
      "200000\n",
      "(200000, 28, 28)\n",
      "(200000,)\n",
      "10000\n",
      "(10000, 28, 28)\n",
      "(10000,)\n",
      "Training: (200000, 28, 28) (200000,)\n",
      "Validation: (10000, 28, 28) (10000,)\n",
      "Testing: (10000, 28, 28) (10000,)\n"
     ]
    }
   ],
   "source": [
    "def make_arrays(nb_rows, img_size):\n",
    "  if nb_rows:\n",
    "    print(nb_rows)\n",
    "    dataset = np.ndarray((nb_rows, img_size, img_size), dtype=np.float32)\n",
    "    print(dataset.shape)\n",
    "    labels = np.ndarray(nb_rows, dtype=np.int32)\n",
    "    print(labels.shape)\n",
    "  else:\n",
    "    dataset, labels = None, None\n",
    "  return dataset, labels\n",
    "\n",
    "def merge_datasets(pickle_files, train_size, valid_size=0):\n",
    "  num_classes = len(pickle_files)\n",
    "  valid_dataset, valid_labels = make_arrays(valid_size, image_size)\n",
    "  train_dataset, train_labels = make_arrays(train_size, image_size)\n",
    "  vsize_per_class = valid_size // num_classes\n",
    "  tsize_per_class = train_size // num_classes\n",
    "    \n",
    "  start_v, start_t = 0, 0\n",
    "  end_v, end_t = vsize_per_class, tsize_per_class\n",
    "  end_l = vsize_per_class+tsize_per_class\n",
    "  for label, pickle_file in enumerate(pickle_files):       \n",
    "    try:\n",
    "      with open(pickle_file, 'rb') as f:\n",
    "        letter_set = pickle.load(f)\n",
    "        # let's shuffle the letters to have random validation and training set\n",
    "        np.random.shuffle(letter_set)\n",
    "        if valid_dataset is not None:\n",
    "          valid_letter = letter_set[:vsize_per_class, :, :]\n",
    "          valid_dataset[start_v:end_v, :, :] = valid_letter\n",
    "          valid_labels[start_v:end_v] = label\n",
    "          start_v += vsize_per_class\n",
    "          end_v += vsize_per_class\n",
    "                    \n",
    "        train_letter = letter_set[vsize_per_class:end_l, :, :]\n",
    "        train_dataset[start_t:end_t, :, :] = train_letter\n",
    "        train_labels[start_t:end_t] = label\n",
    "        start_t += tsize_per_class\n",
    "        end_t += tsize_per_class\n",
    "    except Exception as e:\n",
    "      print('Unable to process data from', pickle_file, ':', e)\n",
    "      raise\n",
    "    \n",
    "  return valid_dataset, valid_labels, train_dataset, train_labels\n",
    "            \n",
    "            \n",
    "train_size = 200000\n",
    "valid_size = 10000\n",
    "test_size = 10000\n",
    "\n",
    "valid_dataset, valid_labels, train_dataset, train_labels = merge_datasets(\n",
    "  train_datasets, train_size, valid_size)\n",
    "_, _, test_dataset, test_labels = merge_datasets(test_datasets, test_size)\n",
    "\n",
    "print('Training:', train_dataset.shape, train_labels.shape)\n",
    "print('Validation:', valid_dataset.shape, valid_labels.shape)\n",
    "print('Testing:', test_dataset.shape, test_labels.shape)"
   ]
  },
  {
   "cell_type": "markdown",
   "metadata": {
    "colab_type": "text",
    "id": "GPTCnjIcyuKN"
   },
   "source": [
    "Next, we'll randomize the data. It's important to have the labels well shuffled for the training and test distributions to match."
   ]
  },
  {
   "cell_type": "code",
   "execution_count": 146,
   "metadata": {
    "cellView": "both",
    "colab": {
     "autoexec": {
      "startup": false,
      "wait_interval": 0
     }
    },
    "colab_type": "code",
    "id": "6WZ2l2tN2zOL"
   },
   "outputs": [
    {
     "name": "stdout",
     "output_type": "stream",
     "text": [
      "[ 78485 193114  91485 ... 164505  42276 121879]\n",
      "[1440 8260 6461 ... 4434 4539 3664]\n",
      "[8304 7200 1886 ... 4072 2963 3538]\n"
     ]
    }
   ],
   "source": [
    "def randomize(dataset, labels):\n",
    "  permutation = np.random.permutation(labels.shape[0])\n",
    "  print(permutation)\n",
    "  shuffled_dataset = dataset[permutation,:,:]\n",
    "  shuffled_labels = labels[permutation]\n",
    "  return shuffled_dataset, shuffled_labels\n",
    "train_dataset, train_labels = randomize(train_dataset, train_labels)\n",
    "test_dataset, test_labels = randomize(test_dataset, test_labels)\n",
    "valid_dataset, valid_labels = randomize(valid_dataset, valid_labels)"
   ]
  },
  {
   "cell_type": "code",
   "execution_count": 11,
   "metadata": {},
   "outputs": [],
   "source": [
    "num2letter = {0: 'A', 1: 'B', 2: 'C', 3: 'D', 4: 'E', 5: 'F', 6: 'G', 7: 'H', 8: 'I', 9: 'J'}"
   ]
  },
  {
   "cell_type": "code",
   "execution_count": 12,
   "metadata": {},
   "outputs": [
    {
     "name": "stdout",
     "output_type": "stream",
     "text": [
      "I\n"
     ]
    },
    {
     "data": {
      "image/png": "[encoded data removed]",
      "text/plain": [
       "<Figure size 432x288 with 1 Axes>"
      ]
     },
     "metadata": {},
     "output_type": "display_data"
    }
   ],
   "source": [
    "test = random.randint(0,200000)\n",
    "plt.imshow(train_dataset[test])\n",
    "print(num2letter[train_labels[test]])"
   ]
  },
  {
   "cell_type": "markdown",
   "metadata": {
    "colab_type": "text",
    "id": "puDUTe6t6USl"
   },
   "source": [
    "---\n",
    "Problem 4\n",
    "---------\n",
    "Convince yourself that the data is still good after shuffling!\n",
    "\n",
    "---"
   ]
  },
  {
   "cell_type": "code",
   "execution_count": 13,
   "metadata": {},
   "outputs": [],
   "source": [
    "def disp_sample_dataset(dataset, labels):\n",
    "  items = random.sample(range(len(labels)), 8)\n",
    "  for i, item in enumerate(items):\n",
    "    plt.subplot(2, 4, i+1)\n",
    "    plt.axis('off')\n",
    "    plt.title(num2letter[labels[item]])\n",
    "    plt.imshow(dataset[item])"
   ]
  },
  {
   "cell_type": "code",
   "execution_count": 19,
   "metadata": {},
   "outputs": [
    {
     "data": {
      "image/png": "[encoded data removed]",
      "text/plain": [
       "<Figure size 432x288 with 8 Axes>"
      ]
     },
     "metadata": {},
     "output_type": "display_data"
    }
   ],
   "source": [
    "disp_sample_dataset(train_dataset, train_labels)"
   ]
  },
  {
   "cell_type": "code",
   "execution_count": 20,
   "metadata": {},
   "outputs": [
    {
     "data": {
      "image/png": "[encoded data removed]",
      "text/plain": [
       "<Figure size 432x288 with 8 Axes>"
      ]
     },
     "metadata": {},
     "output_type": "display_data"
    }
   ],
   "source": [
    "disp_sample_dataset(test_dataset, test_labels)"
   ]
  },
  {
   "cell_type": "code",
   "execution_count": 16,
   "metadata": {},
   "outputs": [
    {
     "data": {
      "image/png": "[encoded data removed]",
      "text/plain": [
       "<Figure size 432x288 with 8 Axes>"
      ]
     },
     "metadata": {},
     "output_type": "display_data"
    }
   ],
   "source": [
    "disp_sample_dataset(valid_dataset, valid_labels)"
   ]
  },
  {
   "cell_type": "markdown",
   "metadata": {
    "colab_type": "text",
    "id": "tIQJaJuwg5Hw"
   },
   "source": [
    "Finally, let's save the data for later reuse:"
   ]
  },
  {
   "cell_type": "code",
   "execution_count": 17,
   "metadata": {
    "cellView": "both",
    "colab": {
     "autoexec": {
      "startup": false,
      "wait_interval": 0
     }
    },
    "colab_type": "code",
    "id": "QiR_rETzem6C"
   },
   "outputs": [],
   "source": [
    "pickle_file = os.path.join(data_root, 'notMNIST.pickle')\n",
    "\n",
    "try:\n",
    "  f = open(pickle_file, 'wb')\n",
    "  save = {\n",
    "    'train_dataset': train_dataset,\n",
    "    'train_labels': train_labels,\n",
    "    'valid_dataset': valid_dataset,\n",
    "    'valid_labels': valid_labels,\n",
    "    'test_dataset': test_dataset,\n",
    "    'test_labels': test_labels,\n",
    "    }\n",
    "  pickle.dump(save, f, pickle.HIGHEST_PROTOCOL)\n",
    "  f.close()\n",
    "except Exception as e:\n",
    "  print('Unable to save data to', pickle_file, ':', e)\n",
    "  raise"
   ]
  },
  {
   "cell_type": "code",
   "execution_count": 18,
   "metadata": {
    "cellView": "both",
    "colab": {
     "autoexec": {
      "startup": false,
      "wait_interval": 0
     },
     "output_extras": [
      {
       "item_id": 1
      }
     ]
    },
    "colab_type": "code",
    "executionInfo": {
     "elapsed": 413065,
     "status": "ok",
     "timestamp": 1444485899688,
     "user": {
      "color": "#1FA15D",
      "displayName": "Vincent Vanhoucke",
      "isAnonymous": false,
      "isMe": true,
      "permissionId": "05076109866853157986",
      "photoUrl": "//lh6.googleusercontent.com/-cCJa7dTDcgQ/AAAAAAAAAAI/AAAAAAAACgw/r2EZ_8oYer4/s50-c-k-no/photo.jpg",
      "sessionId": "2a0a5e044bb03b66",
      "userId": "102167687554210253930"
     },
     "user_tz": 420
    },
    "id": "hQbLjrW_iT39",
    "outputId": "b440efc6-5ee1-4cbc-d02d-93db44ebd956"
   },
   "outputs": [
    {
     "name": "stdout",
     "output_type": "stream",
     "text": [
      "Compressed pickle size: 690800441\n"
     ]
    }
   ],
   "source": [
    "statinfo = os.stat(pickle_file)\n",
    "print('Compressed pickle size:', statinfo.st_size)"
   ]
  },
  {
   "cell_type": "markdown",
   "metadata": {
    "colab_type": "text",
    "id": "gE_cRAQB33lk"
   },
   "source": [
    "---\n",
    "Problem 5\n",
    "---------\n",
    "\n",
    "By construction, this dataset might contain a lot of overlapping samples, including training data that's also contained in the validation and test set! Overlap between training and test can skew the results if you expect to use your model in an environment where there is never an overlap, but are actually ok if you expect to see training samples recur when you use it.\n",
    "Measure how much overlap there is between training, validation and test samples.\n",
    "\n",
    "Optional questions:\n",
    "- What about near duplicates between datasets? (images that are almost identical)\n",
    "- Create a sanitized validation and test set, and compare your accuracy on those in subsequent assignments.\n",
    "---"
   ]
  },
  {
   "cell_type": "code",
   "execution_count": 80,
   "metadata": {},
   "outputs": [],
   "source": [
    "import hashlib\n",
    "\n",
    "# Judge the overlap imgs by md5, which is faster than np function\n",
    "def overlap_measure_hash(dataset1, dataset2):\n",
    "    dataset_hash1 = np.array([hashlib.md5(img).hexdigest() for img in dataset1])\n",
    "    dataset_hash2 = np.array([hashlib.md5(img).hexdigest() for img in dataset2])\n",
    "    overlap = {}\n",
    "    for i, hash1 in enumerate(dataset_hash1):\n",
    "        duplicates = np.where(dataset_hash2 == hash1)\n",
    "        if len(duplicates[0]):\n",
    "          overlap[i] = duplicates[0]\n",
    "    return overlap"
   ]
  },
  {
   "cell_type": "code",
   "execution_count": 88,
   "metadata": {},
   "outputs": [
    {
     "name": "stdout",
     "output_type": "stream",
     "text": [
      "CPU times: user 16.8 s, sys: 769 ms, total: 17.5 s\n",
      "Wall time: 17.6 s\n"
     ]
    }
   ],
   "source": [
    "%time overlap_test_train = overlap_measure_hash(test_dataset, train_dataset)"
   ]
  },
  {
   "cell_type": "code",
   "execution_count": 91,
   "metadata": {},
   "outputs": [
    {
     "name": "stdout",
     "output_type": "stream",
     "text": [
      "Number of overlaps: 1258\n"
     ]
    }
   ],
   "source": [
    "print('Number of overlaps:', len(overlap_test_train.keys()))"
   ]
  },
  {
   "cell_type": "code",
   "execution_count": 90,
   "metadata": {},
   "outputs": [
    {
     "name": "stdout",
     "output_type": "stream",
     "text": [
      "CPU times: user 938 ms, sys: 49 ms, total: 987 ms\n",
      "Wall time: 990 ms\n"
     ]
    }
   ],
   "source": [
    "%time overlap_test_val = overlap_measure_hash(test_dataset, valid_dataset)"
   ]
  },
  {
   "cell_type": "code",
   "execution_count": 92,
   "metadata": {},
   "outputs": [
    {
     "name": "stdout",
     "output_type": "stream",
     "text": [
      "Number of overlaps: 196\n"
     ]
    }
   ],
   "source": [
    "print('Number of overlaps:', len(overlap_test_val.keys()))"
   ]
  },
  {
   "cell_type": "code",
   "execution_count": 94,
   "metadata": {},
   "outputs": [
    {
     "name": "stdout",
     "output_type": "stream",
     "text": [
      "[6144, 8193, 8194, 4099, 2052, 6486, 4103, 4501, 2057, 9479, 8535, 2061, 2062, 15, 6161, 18, 2067, 2068, 2072, 6173, 7707, 4129, 2082, 8228, 2086, 40, 2089, 5127, 7858, 4142, 4445, 8240, 9907, 2100, 2102, 56, 2105, 58, 2866, 60, 6207, 65, 2116, 7981, 8322, 9569, 4171, 8269, 4175, 2128, 2129, 8274, 2132, 5134, 4182, 6841, 8800, 4186, 7525, 2145, 99, 4197, 4198, 6249, 6253, 110, 111, 113, 2162, 4211, 6261, 4215, 2168, 8212, 6847, 124, 126, 128, 8321, 130, 6507, 8324, 6277, 2182, 8597, 9580, 2189, 9216, 6287, 8336, 6168, 8340, 8341, 2198, 7370, 9924, 154, 155, 2204, 6301, 4254, 8352, 161, 163, 4260, 7537, 6314, 8189, 8530, 5734, 4271, 7780, 8803, 182, 2231, 187, 7644, 8906, 2239, 4288, 193, 6807, 2249, 2250, 2253, 206, 4303, 209, 4306, 7886, 215, 4312, 6361, 2266, 2269, 222, 2271, 226, 3451, 6373, 8427, 4332, 8914, 4334, 8432, 9256, 8434, 2292, 2295, 5989, 2298, 4347, 8917, 2305, 8450, 261, 262, 264, 6412, 2317, 4366, 2319, 272, 273, 4371, 7306, 8472, 7488, 6427, 4381, 286, 6431, 6488, 6436, 8582, 2342, 8488, 5852, 298, 8491, 2348, 7218, 6446, 304, 9608, 2354, 2355, 6452, 4489, 4410, 4411, 2365, 318, 5173, 8199, 4420, 4422, 4423, 4427, 2380, 333, 2383, 6480, 2385, 338, 9955, 4438, 8249, 2392, 8932, 348, 2397, 2399, 8545, 354, 6499, 2404, 2405, 6502, 6204, 362, 2411, 8558, 7229, 8563, 2421, 6518, 375, 6521, 379, 383, 2432, 4991, 9263, 6534, 8257, 4488, 393, 6558, 5527, 4492, 4493, 2448, 6546, 6548, 2453, 6550, 6551, 2457, 2461, 414, 6561, 418, 2470, 8615, 426, 427, 6572, 2477, 6557, 8627, 4533, 8630, 439, 4536, 4538, 4539, 446, 8949, 8267, 8644, 4550, 8503, 8649, 6903, 2508, 8653, 462, 2512, 465, 4562, 4564, 2517, 472, 6617, 2523, 8668, 9978, 2526, 2527, 2529, 2530, 6566, 8273, 6908, 8682, 9359, 6641, 2546, 8691, 500, 6646, 1449, 9223, 4603, 8473, 6570, 2559, 8704, 513, 6658, 517, 4614, 4615, 6664, 521, 522, 523, 8716, 2574, 6672, 529, 8724, 533, 535, 4632, 538, 6360, 8737, 2594, 547, 8740, 4870, 4646, 8743, 6696, 9308, 6919, 2606, 559, 2608, 7520, 562, 8755, 8756, 3633, 8761, 570, 3768, 2620, 2621, 3497, 4678, 9703, 585, 586, 6731, 4684, 589, 2639, 2640, 6430, 595, 6741, 2646, 599, 2652, 7610, 6294, 608, 2657, 8802, 4707, 612, 613, 4711, 8272, 617, 618, 2667, 8812, 7219, 6766, 4719, 2672, 2673, 626, 2676, 4725, 4727, 9418, 4729, 4735, 8833, 642, 2691, 645, 5136, 4743, 7182, 6798, 656, 2705, 6802, 8643, 4756, 2158, 2710, 663, 4761, 2714, 671, 6816, 7592, 2725, 8870, 9638, 6824, 8873, 8875, 8876, 6829, 2735, 6832, 7624, 690, 6835, 4788, 2742, 697, 4794, 2747, 9366, 4799, 2752, 2754, 8899, 6945, 2761, 714, 8910, 6366, 722, 8654, 9911, 9765, 730, 9708, 7973, 7632, 4834, 9640, 4836, 2789, 7654, 8935, 6888, 4220, 9934, 8999, 7634, 2798, 751, 752, 4709, 8413, 8754, 6299, 2805, 4855, 2808, 2809, 4858, 9709, 2812, 4565, 768, 8962, 6915, 2822, 6777, 6920, 4908, 780, 781, 783, 9075, 786, 2836, 790, 2840, 8985, 797, 798, 2848, 801, 4898, 2853, 6950, 4903, 2857, 4906, 812, 2861, 2862, 818, 819, 478, 9015, 2874, 829, 830, 6978, 6438, 2884, 4934, 4935, 6370, 4939, 6988, 845, 2897, 7651, 2900, 2901, 7598, 857, 7311, 2912, 2913, 4962, 9060, 4965, 8039, 9362, 2923, 4973, 878, 4925, 8571, 8690, 883, 5777, 7031, 7036, 2941, 9086, 895, 7040, 4246, 8670, 903, 7660, 906, 9099, 5004, 9026, 5006, 3565, 2960, 5010, 9027, 7061, 919, 922, 3567, 2973, 7070, 7072, 2978, 5027, 8078, 9127, 2984, 8348, 7082, 5037, 2990, 7087, 946, 7091, 9140, 9141, 7094, 7095, 7098, 955, 7100, 9149, 9150, 3009, 5059, 7109, 7114, 503, 972, 7118, 7119, 5488, 7085, 982, 3032, 7129, 988, 6716, 9184, 994, 6651, 9785, 998, 3047, 9192, 1001, 7335, 1004, 1006, 7155, 3060, 5109, 1014, 9208, 8020, 1018, 3067, 9213, 7166, 5119, 3072, 9217, 7171, 1031, 5130, 9229, 1038, 3088, 8559, 7188, 1046, 5146, 5147, 1052, 1053, 3102, 1055, 9250, 9051, 5156, 1062, 1064, 1065, 3114, 5163, 5164, 5166, 8029, 7217, 3122, 1075, 9868, 3125, 7689, 7227, 1085, 3134, 1087, 7232, 3138, 3140, 7237, 3937, 7692, 4279, 3148, 3149, 1103, 5202, 5203, 9300, 1109, 6889, 7257, 7258, 9743, 1116, 1119, 7265, 9403, 3172, 7607, 6673, 3179, 7661, 3602, 5357, 3188, 7287, 9337, 5242, 9340, 8699, 3200, 7297, 9067, 1157, 9352, 5258, 3211, 9357, 1167, 3216, 9361, 9177, 3219, 1172, 5270, 7319, 1176, 9412, 1178, 5275, 5276, 5277, 4795, 7327, 5281, 7702, 7441, 9381, 7334, 5287, 9384, 3612, 3242, 3243, 8050, 1199, 1200, 7345, 9394, 3251, 3253, 7351, 5306, 5307, 3260, 6346, 5310, 5312, 7364, 3274, 3275, 5666, 7374, 9421, 7379, 9111, 5335, 9433, 3290, 5340, 9437, 5497, 7392, 1249, 5346, 1251, 5348, 4305, 3305, 9451, 9452, 3309, 9454, 1269, 5370, 1275, 7420, 8635, 9471, 9473, 7426, 9475, 1284, 3334, 3969, 9480, 8499, 1291, 7437, 7440, 1297, 5395, 3350, 3351, 7450, 6703, 7453, 1310, 7545, 9504, 6528, 3363, 1316, 5413, 3367, 5417, 9107, 1323, 7468, 2610, 1326, 1327, 3376, 3976, 3378, 1331, 4318, 9097, 5432, 1338, 223, 8927, 1341, 5439, 5440, 8956, 5443, 7493, 9542, 9543, 7497, 5451, 8774, 5453, 5454, 1359, 3408, 1364, 3413, 3414, 5463, 9444, 5466, 3420, 1374, 7519, 1376, 5008, 1380, 3429, 6729, 7527, 7756, 4668, 9578, 7399, 7532, 4669, 1392, 1393, 4479, 5161, 7542, 5353, 3449, 1403, 5500, 1405, 7550, 8085, 3457, 9602, 1411, 9631, 9117, 1417, 5515, 1423, 9616, 1427, 3479, 9624, 3482, 3483, 9733, 9114, 7583, 9740, 1442, 5299, 1446, 7591, 1448, 405, 1450, 9644, 3502, 3503, 1456, 5553, 7602, 1460, 4681, 5560, 8436, 1466, 7611, 1468, 4682, 1470, 9663, 9120, 7618, 5571, 3525, 5575, 1480, 6732, 7628, 9122, 5582, 2637, 3536, 5586, 5589, 9687, 3548, 3552, 5602, 1507, 9661, 6202, 7655, 8711, 9468, 1515, 1516, 1517, 1519, 9712, 4008, 1522, 9715, 1524, 1525, 9835, 7673, 7676, 9726, 3584, 1537, 3586, 4893, 4694, 5641, 7691, 1548, 9742, 1551, 1554, 9599, 1557, 5654, 9752, 9872, 1563, 1564, 7711, 9760, 9761, 3618, 7715, 9764, 3621, 9767, 9770, 1579, 1581, 9774, 5679, 3632, 1585, 5682, 9782, 9481, 3641, 9789, 9791, 7744, 4704, 5507, 9737, 8540, 1608, 3658, 9143, 7555, 5709, 3664, 7762, 7763, 1620, 3669, 9814, 7419, 5720, 6756, 3675, 9820, 9822, 3679, 5728, 7778, 5731, 3684, 5733, 3686, 1639, 7784, 8124, 7787, 5742, 7791, 3696, 8852, 8467, 3700, 8809, 9848, 9252, 1660, 7954, 9858, 1667, 7812, 5765, 7105, 3720, 1674, 5772, 1678, 3728, 1681, 5778, 8131, 3732, 8814, 3735, 5786, 8815, 5790, 3743, 5794, 7843, 1700, 1705, 3755, 1708, 7853, 6429, 3760, 1714, 8104, 3764, 3765, 7013, 1720, 9914, 9503, 1724, 5821, 9918, 3775, 5513, 8480, 1730, 7876, 9925, 5830, 3783, 1736, 7150, 5836, 5837, 3790, 7889, 1746, 9777, 1749, 5846, 5847, 1752, 7663, 3804, 9850, 9950, 9951, 6096, 5858, 3811, 1764, 3813, 5862, 1768, 9961, 6918, 9859, 7919, 1776, 1777, 1780, 1781, 8489, 5880, 9900, 5882, 3835, 1791, 1792, 9515, 1796, 7944, 8151, 8834, 7469, 9812, 3857, 1810, 3859, 3374, 4057, 3866, 7221, 6789, 3874, 6790, 5926, 5927, 5084, 5931, 306, 3886, 7984, 1842, 307, 5940, 1847, 1850, 5947, 3902, 8160, 8002, 8007, 7820, 5962, 5236, 6800, 5972, 7822, 8028, 7482, 9522, 5984, 2704, 7483, 8036, 5094, 5990, 3729, 1897, 9360, 5998, 5437, 9969, 1906, 8851, 9819, 8510, 8056, 5780, 9669, 8062, 1921, 3971, 1924, 6021, 2178, 1928, 6026, 4759, 1932, 9538, 1934, 6031, 1937, 3986, 1939, 3988, 5102, 6468, 6043, 8094, 1953, 7771, 8101, 6054, 1960, 1961, 8415, 8178, 6062, 8113, 6067, 1972, 8117, 6070, 1975, 9277, 6073, 6074, 2719, 4028, 4035, 8132, 1989, 9548, 4043, 8140, 9890, 6095, 2000, 8147, 4054, 6103, 2009, 8156, 2013, 6821, 4064, 2018, 7023, 8387, 4071, 4074, 4841, 4076, 8173, 4079, 4080, 2033, 2034, 8181, 8182, 3412, 6140, 2045, 8190, 7474]\n"
     ]
    }
   ],
   "source": [
    "print(overlap_test_train.keys())"
   ]
  },
  {
   "cell_type": "code",
   "execution_count": 95,
   "metadata": {},
   "outputs": [
    {
     "name": "stdout",
     "output_type": "stream",
     "text": [
      "CPU times: user 18.3 s, sys: 133 ms, total: 18.4 s\n",
      "Wall time: 19.4 s\n"
     ]
    }
   ],
   "source": [
    "%time overlap_train_val = overlap_measure_hash(train_dataset, valid_dataset)"
   ]
  },
  {
   "cell_type": "code",
   "execution_count": 96,
   "metadata": {},
   "outputs": [
    {
     "name": "stdout",
     "output_type": "stream",
     "text": [
      "Number of overlaps: 3500\n"
     ]
    }
   ],
   "source": [
    "print('Number of overlaps:', len(overlap_train_val.keys()))"
   ]
  },
  {
   "cell_type": "markdown",
   "metadata": {},
   "source": [
    "My function for sanitizaion just deletes the duplicated img from either dataset, not consider near duplicates within the same dataset"
   ]
  },
  {
   "cell_type": "code",
   "execution_count": 106,
   "metadata": {},
   "outputs": [],
   "source": [
    "def overlap_kick_off(dataset1, dataset2, labels1):\n",
    "    dataset_hash1 = np.array([hashlib.md5(img).hexdigest() for img in dataset1])\n",
    "    dataset_hash2 = np.array([hashlib.md5(img).hexdigest() for img in dataset2])\n",
    "    overlap = [] \n",
    "    for i, hash1 in enumerate(dataset_hash1):\n",
    "        duplicates = np.where(dataset_hash2 == hash1)\n",
    "        if len(duplicates[0]):\n",
    "          overlap.append(i)\n",
    "    print('Delete '+ str(len(overlap)) + ' items')\n",
    "    return np.delete(dataset1, overlap, 0), np.delete(labels1, overlap, None)"
   ]
  },
  {
   "cell_type": "code",
   "execution_count": 147,
   "metadata": {},
   "outputs": [
    {
     "name": "stdout",
     "output_type": "stream",
     "text": [
      "(200000, 28, 28)\n",
      "(10000, 28, 28)\n",
      "(10000, 28, 28)\n",
      "200000\n",
      "10000\n"
     ]
    }
   ],
   "source": [
    "print(train_dataset.shape)\n",
    "print(test_dataset.shape)\n",
    "print(valid_dataset.shape)\n",
    "print(len(train_labels))\n",
    "print(len(test_labels))"
   ]
  },
  {
   "cell_type": "code",
   "execution_count": 148,
   "metadata": {},
   "outputs": [
    {
     "name": "stdout",
     "output_type": "stream",
     "text": [
      "Delete 3418 items\n",
      "Delete 1337 items\n",
      "Delete 214 items\n"
     ]
    }
   ],
   "source": [
    "train_dataset_sanitized, train_labels_sanitized = overlap_kick_off(train_dataset, test_dataset, train_labels)\n",
    "train_dataset_sanitized, train_labels_sanitized = overlap_kick_off(train_dataset_sanitized, valid_dataset, train_labels_sanitized)\n",
    "test_dataset_sanitized, test_labels_sanitized = overlap_kick_off(test_dataset, valid_dataset, test_labels)"
   ]
  },
  {
   "cell_type": "code",
   "execution_count": 149,
   "metadata": {},
   "outputs": [
    {
     "name": "stdout",
     "output_type": "stream",
     "text": [
      "(195245, 28, 28)\n",
      "(9786, 28, 28)\n",
      "195245\n",
      "9786\n"
     ]
    }
   ],
   "source": [
    "print(train_dataset_sanitized.shape)\n",
    "print(test_dataset_sanitized.shape)\n",
    "print(len(train_labels_sanitized))\n",
    "print(len(test_labels_sanitized))"
   ]
  },
  {
   "cell_type": "markdown",
   "metadata": {},
   "source": [
    "Save data as a pickle type"
   ]
  },
  {
   "cell_type": "code",
   "execution_count": 114,
   "metadata": {},
   "outputs": [],
   "source": [
    "pickle_file_sanitized = os.path.join(data_root, 'notMNIST_sanitized.pickle')\n",
    "\n",
    "try:\n",
    "  f = open(pickle_file_sanitized, 'wb')\n",
    "  save = {\n",
    "    'train_dataset': train_dataset_sanitized,\n",
    "    'train_labels': train_labels,\n",
    "    'valid_dataset': valid_dataset,\n",
    "    'valid_labels': valid_labels,\n",
    "    'test_dataset': test_dataset_sanitized,\n",
    "    'test_labels': test_labels_sanitized,\n",
    "    }\n",
    "  pickle.dump(save, f, pickle.HIGHEST_PROTOCOL)\n",
    "  f.close()\n",
    "except Exception as e:\n",
    "  print('Unable to save data to', pickle_file, ':', e)\n",
    "  raise"
   ]
  },
  {
   "cell_type": "code",
   "execution_count": 115,
   "metadata": {},
   "outputs": [
    {
     "name": "stdout",
     "output_type": "stream",
     "text": [
      "Compressed pickle size: 660056405\n"
     ]
    }
   ],
   "source": [
    "statinfo = os.stat(pickle_file_sanitized)\n",
    "print('Compressed pickle size:', statinfo.st_size)"
   ]
  },
  {
   "cell_type": "markdown",
   "metadata": {
    "colab_type": "text",
    "id": "L8oww1s4JMQx"
   },
   "source": [
    "---\n",
    "Problem 6\n",
    "---------\n",
    "\n",
    "Let's get an idea of what an off-the-shelf classifier can give you on this data. It's always good to check that there is something to learn, and that it's a problem that is not so trivial that a canned solution solves it.\n",
    "\n",
    "Train a simple model on this data using 50, 100, 1000 and 5000 training samples. Hint: you can use the LogisticRegression model from sklearn.linear_model.\n",
    "\n",
    "Optional question: train an off-the-shelf model on all the data!\n",
    "\n",
    "---"
   ]
  },
  {
   "cell_type": "markdown",
   "metadata": {},
   "source": [
    "I used keras not sklearn to build the logistic regression model"
   ]
  },
  {
   "cell_type": "code",
   "execution_count": 126,
   "metadata": {},
   "outputs": [],
   "source": [
    "from keras.utils import np_utils\n",
    "from keras.models import Sequential\n",
    "from keras.layers import Dense, Activation"
   ]
  },
  {
   "cell_type": "code",
   "execution_count": 128,
   "metadata": {},
   "outputs": [],
   "source": [
    "# Build model\n",
    "input_dim = 28*28\n",
    "output_dim = 10\n",
    "model = Sequential()\n",
    "model.add(Dense(output_dim, input_dim = input_dim, activation='softmax'))\n",
    "batch_size = 128\n",
    "epochs = 20"
   ]
  },
  {
   "cell_type": "code",
   "execution_count": 157,
   "metadata": {},
   "outputs": [],
   "source": [
    "# Process data\n",
    "X_train = train_dataset_sanitized.reshape(train_dataset_sanitized.shape[0],input_dim)\n",
    "X_test = test_dataset_sanitized.reshape(test_dataset_sanitized.shape[0], input_dim)\n",
    "X_val = valid_dataset.reshape(valid_dataset.shape[0], input_dim)\n",
    "Y_train = train_labels_sanitized.astype('float32')\n",
    "Y_test = test_labels_sanitized.astype('float32')\n",
    "Y_val = valid_labels.astype('float32')"
   ]
  },
  {
   "cell_type": "code",
   "execution_count": 160,
   "metadata": {},
   "outputs": [],
   "source": [
    "# Convert the labels to one-hot vector\n",
    "Y_train = np_utils.to_categorical(Y_train, num_classes=10) \n",
    "Y_test = np_utils.to_categorical(Y_test, num_classes=10)\n",
    "Y_val = np_utils.to_categorical(Y_val, num_classes=10)"
   ]
  },
  {
   "cell_type": "code",
   "execution_count": 152,
   "metadata": {},
   "outputs": [
    {
     "name": "stdout",
     "output_type": "stream",
     "text": [
      "Train on 195245 samples, validate on 10000 samples\n",
      "Epoch 1/20\n",
      "195245/195245 [==============================] - 3s 14us/step - loss: 0.8706 - acc: 0.7723 - val_loss: 0.7423 - val_acc: 0.8079\n",
      "Epoch 2/20\n",
      "195245/195245 [==============================] - 2s 13us/step - loss: 0.7027 - acc: 0.8149 - val_loss: 0.7072 - val_acc: 0.8167- loss: 0.7193 - acc: 0.810 - ETA: 1s - loss: 0 - ETA: 0s - loss: 0.7084 \n",
      "Epoch 3/20\n",
      "195245/195245 [==============================] - 2s 12us/step - loss: 0.6802 - acc: 0.8208 - val_loss: 0.6907 - val_acc: 0.8192\n",
      "Epoch 4/20\n",
      "195245/195245 [==============================] - 2s 12us/step - loss: 0.6687 - acc: 0.8234 - val_loss: 0.6808 - val_acc: 0.8216\n",
      "Epoch 5/20\n",
      "195245/195245 [==============================] - 2s 12us/step - loss: 0.6613 - acc: 0.8248 - val_loss: 0.6751 - val_acc: 0.8217\n",
      "Epoch 6/20\n",
      "195245/195245 [==============================] - 2s 13us/step - loss: 0.6560 - acc: 0.8263 - val_loss: 0.6689 - val_acc: 0.8235\n",
      "Epoch 7/20\n",
      "195245/195245 [==============================] - 3s 13us/step - loss: 0.6519 - acc: 0.8273 - val_loss: 0.6656 - val_acc: 0.8230\n",
      "Epoch 8/20\n",
      "195245/195245 [==============================] - 4s 20us/step - loss: 0.6486 - acc: 0.8281 - val_loss: 0.6619 - val_acc: 0.8246\n",
      "Epoch 9/20\n",
      "195245/195245 [==============================] - 2s 12us/step - loss: 0.6460 - acc: 0.8288 - val_loss: 0.6595 - val_acc: 0.8248s - loss: 0.6497 -  - ETA: 0s - loss: 0.6461 - acc: 0.828\n",
      "Epoch 10/20\n",
      "195245/195245 [==============================] - 2s 11us/step - loss: 0.6437 - acc: 0.8293 - val_loss: 0.6582 - val_acc: 0.8260\n",
      "Epoch 11/20\n",
      "195245/195245 [==============================] - 2s 10us/step - loss: 0.6418 - acc: 0.8299 - val_loss: 0.6561 - val_acc: 0.82621s - loss: 0.6488 - acc: 0. - ETA: 0s - loss: 0.6455 - - ETA: 0s - loss: 0.6428 - acc:  - ETA: 0s - loss: 0.6414 - acc: 0.83\n",
      "Epoch 12/20\n",
      "195245/195245 [==============================] - 2s 11us/step - loss: 0.6402 - acc: 0.8306 - val_loss: 0.6539 - val_acc: 0.8263\n",
      "Epoch 13/20\n",
      "195245/195245 [==============================] - 2s 12us/step - loss: 0.6388 - acc: 0.8306 - val_loss: 0.6530 - val_acc: 0.8274loss: 0\n",
      "Epoch 14/20\n",
      "195245/195245 [==============================] - 2s 13us/step - loss: 0.6375 - acc: 0.8309 - val_loss: 0.6530 - val_acc: 0.8279s: 0.6402 -  - ETA: 0s - loss: 0.6388\n",
      "Epoch 15/20\n",
      "195245/195245 [==============================] - 2s 12us/step - loss: 0.6363 - acc: 0.8314 - val_loss: 0.6511 - val_acc: 0.8288 2s - los - ETA: 0s - loss: 0.6382 - acc: 0 - ETA: 0s - loss: 0.6372 - acc: \n",
      "Epoch 16/20\n",
      "195245/195245 [==============================] - 2s 11us/step - loss: 0.6353 - acc: 0.8315 - val_loss: 0.6504 - val_acc: 0.8286s: 0.6359 - acc: 0.83\n",
      "Epoch 17/20\n",
      "195245/195245 [==============================] - 2s 10us/step - loss: 0.6344 - acc: 0.8319 - val_loss: 0.6491 - val_acc: 0.8291 loss: 0.6370 - acc:  - ETA: 0s - loss: 0\n",
      "Epoch 18/20\n",
      "195245/195245 [==============================] - 2s 12us/step - loss: 0.6336 - acc: 0.8320 - val_loss: 0.6485 - val_acc: 0.8292- \n",
      "Epoch 19/20\n",
      "195245/195245 [==============================] - 2s 11us/step - loss: 0.6328 - acc: 0.8321 - val_loss: 0.6492 - val_acc: 0.8302\n",
      "Epoch 20/20\n",
      "195245/195245 [==============================] - 2s 12us/step - loss: 0.6321 - acc: 0.8323 - val_loss: 0.6475 - val_acc: 0.8295\n"
     ]
    }
   ],
   "source": [
    "model.compile(optimizer='sgd', loss='categorical_crossentropy',\n",
    "              metrics=['accuracy'])\n",
    "history = model.fit(X_train, Y_train,\n",
    "                   batch_size = batch_size,\n",
    "                   epochs = epoch,\n",
    "                   verbose = 1,\n",
    "                   validation_data = [X_val, Y_val])"
   ]
  },
  {
   "cell_type": "code",
   "execution_count": 161,
   "metadata": {},
   "outputs": [
    {
     "name": "stdout",
     "output_type": "stream",
     "text": [
      "Test score: 0.4085618207090695 Test accuracy: 0.8972000817859829\n"
     ]
    }
   ],
   "source": [
    "# Evaluate the model\n",
    "score = model.evaluate(X_test, Y_test, verbose=0)\n",
    "print('Test score:', score[0], 'Test accuracy:', score[1])"
   ]
  },
  {
   "cell_type": "code",
   "execution_count": null,
   "metadata": {},
   "outputs": [],
   "source": []
  }
 ],
 "metadata": {
  "colab": {
   "default_view": {},
   "name": "1_notmnist.ipynb",
   "provenance": [],
   "version": "0.3.2",
   "views": {}
  },
  "kernelspec": {
   "display_name": "Python 3",
   "language": "python",
   "name": "python3"
  },
  "language_info": {
   "codemirror_mode": {
    "name": "ipython",
    "version": 3
   },
   "file_extension": ".py",
   "mimetype": "text/x-python",
   "name": "python",
   "nbconvert_exporter": "python",
   "pygments_lexer": "ipython3",
   "version": "3.6.5"
  }
 },
 "nbformat": 4,
 "nbformat_minor": 1
}
