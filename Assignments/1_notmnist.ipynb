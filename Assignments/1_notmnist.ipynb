{
 "cells": [
  {
   "cell_type": "markdown",
   "metadata": {
    "colab_type": "text",
    "id": "5hIbr52I7Z7U"
   },
   "source": [
    "Deep Learning\n",
    "=============\n",
    "\n",
    "Assignment 1\n",
    "------------\n",
    "\n",
    "The objective of this assignment is to learn about simple data curation practices, and familiarize you with some of the data we'll be reusing later.\n",
    "\n",
    "This notebook uses the [notMNIST](http://yaroslavvb.blogspot.com/2011/09/notmnist-dataset.html) dataset to be used with python experiments. This dataset is designed to look like the classic [MNIST](http://yann.lecun.com/exdb/mnist/) dataset, while looking a little more like real data: it's a harder task, and the data is a lot less 'clean' than MNIST."
   ]
  },
  {
   "cell_type": "code",
   "execution_count": 1,
   "metadata": {
    "cellView": "both",
    "colab": {
     "autoexec": {
      "startup": false,
      "wait_interval": 0
     }
    },
    "colab_type": "code",
    "id": "apJbCsBHl-2A"
   },
   "outputs": [],
   "source": [
    "# These are all the modules we'll be using later. Make sure you can import them\n",
    "# before proceeding further.\n",
    "from __future__ import print_function\n",
    "import imageio\n",
    "import matplotlib.pyplot as plt\n",
    "import numpy as np\n",
    "import os\n",
    "import sys\n",
    "import tarfile\n",
    "from IPython.display import display, Image\n",
    "from sklearn.linear_model import LogisticRegression\n",
    "from six.moves.urllib.request import urlretrieve\n",
    "from six.moves import cPickle as pickle\n",
    "\n",
    "# Config the matplotlib backend as plotting inline in IPython\n",
    "%matplotlib inline"
   ]
  },
  {
   "cell_type": "markdown",
   "metadata": {
    "colab_type": "text",
    "id": "jNWGtZaXn-5j"
   },
   "source": [
    "First, we'll download the dataset to our local machine. The data consists of characters rendered in a variety of fonts on a 28x28 image. The labels are limited to 'A' through 'J' (10 classes). The training set has about 500k and the testset 19000 labeled examples. Given these sizes, it should be possible to train models quickly on any machine."
   ]
  },
  {
   "cell_type": "code",
   "execution_count": 2,
   "metadata": {
    "cellView": "both",
    "colab": {
     "autoexec": {
      "startup": false,
      "wait_interval": 0
     },
     "output_extras": [
      {
       "item_id": 1
      }
     ]
    },
    "colab_type": "code",
    "executionInfo": {
     "elapsed": 186058,
     "status": "ok",
     "timestamp": 1444485672507,
     "user": {
      "color": "#1FA15D",
      "displayName": "Vincent Vanhoucke",
      "isAnonymous": false,
      "isMe": true,
      "permissionId": "05076109866853157986",
      "photoUrl": "//lh6.googleusercontent.com/-cCJa7dTDcgQ/AAAAAAAAAAI/AAAAAAAACgw/r2EZ_8oYer4/s50-c-k-no/photo.jpg",
      "sessionId": "2a0a5e044bb03b66",
      "userId": "102167687554210253930"
     },
     "user_tz": 420
    },
    "id": "EYRJ4ICW6-da",
    "outputId": "0d0f85df-155f-4a89-8e7e-ee32df36ec8d"
   },
   "outputs": [
    {
     "name": "stdout",
     "output_type": "stream",
     "text": [
      "Found and verified ./notMNIST_large.tar.gz\n",
      "Found and verified ./notMNIST_small.tar.gz\n"
     ]
    }
   ],
   "source": [
    "url = 'https://commondatastorage.googleapis.com/books1000/'\n",
    "last_percent_reported = None\n",
    "data_root = '.' # Change me to store data elsewhere\n",
    "\n",
    "def download_progress_hook(count, blockSize, totalSize):\n",
    "  \"\"\"A hook to report the progress of a download. This is mostly intended for users with\n",
    "  slow internet connections. Reports every 5% change in download progress.\n",
    "  \"\"\"\n",
    "  global last_percent_reported\n",
    "  percent = int(count * blockSize * 100 / totalSize)\n",
    "\n",
    "  if last_percent_reported != percent:\n",
    "    if percent % 5 == 0:\n",
    "      sys.stdout.write(\"%s%%\" % percent)\n",
    "      sys.stdout.flush()\n",
    "    else:\n",
    "      sys.stdout.write(\".\")\n",
    "      sys.stdout.flush()\n",
    "      \n",
    "    last_percent_reported = percent\n",
    "        \n",
    "def maybe_download(filename, expected_bytes, force=False):\n",
    "  \"\"\"Download a file if not present, and make sure it's the right size.\"\"\"\n",
    "  dest_filename = os.path.join(data_root, filename)\n",
    "  if force or not os.path.exists(dest_filename):\n",
    "    print('Attempting to download:', filename) \n",
    "    filename, _ = urlretrieve(url + filename, dest_filename, reporthook=download_progress_hook)\n",
    "    print('\\nDownload Complete!')\n",
    "  statinfo = os.stat(dest_filename)\n",
    "  if statinfo.st_size == expected_bytes:\n",
    "    print('Found and verified', dest_filename)\n",
    "  else:\n",
    "    raise Exception(\n",
    "      'Failed to verify ' + dest_filename + '. Can you get to it with a browser?')\n",
    "  return dest_filename\n",
    "\n",
    "train_filename = maybe_download('notMNIST_large.tar.gz', 247336696)\n",
    "test_filename = maybe_download('notMNIST_small.tar.gz', 8458043)"
   ]
  },
  {
   "cell_type": "markdown",
   "metadata": {
    "colab_type": "text",
    "id": "cC3p0oEyF8QT"
   },
   "source": [
    "Extract the dataset from the compressed .tar.gz file.\n",
    "This should give you a set of directories, labeled A through J."
   ]
  },
  {
   "cell_type": "code",
   "execution_count": 3,
   "metadata": {
    "cellView": "both",
    "colab": {
     "autoexec": {
      "startup": false,
      "wait_interval": 0
     },
     "output_extras": [
      {
       "item_id": 1
      }
     ]
    },
    "colab_type": "code",
    "executionInfo": {
     "elapsed": 186055,
     "status": "ok",
     "timestamp": 1444485672525,
     "user": {
      "color": "#1FA15D",
      "displayName": "Vincent Vanhoucke",
      "isAnonymous": false,
      "isMe": true,
      "permissionId": "05076109866853157986",
      "photoUrl": "//lh6.googleusercontent.com/-cCJa7dTDcgQ/AAAAAAAAAAI/AAAAAAAACgw/r2EZ_8oYer4/s50-c-k-no/photo.jpg",
      "sessionId": "2a0a5e044bb03b66",
      "userId": "102167687554210253930"
     },
     "user_tz": 420
    },
    "id": "H8CBE-WZ8nmj",
    "outputId": "ef6c790c-2513-4b09-962e-27c79390c762"
   },
   "outputs": [
    {
     "name": "stdout",
     "output_type": "stream",
     "text": [
      "./notMNIST_large already present - Skipping extraction of ./notMNIST_large.tar.gz.\n",
      "['./notMNIST_large/A', './notMNIST_large/B', './notMNIST_large/C', './notMNIST_large/D', './notMNIST_large/E', './notMNIST_large/F', './notMNIST_large/G', './notMNIST_large/H', './notMNIST_large/I', './notMNIST_large/J']\n",
      "./notMNIST_small already present - Skipping extraction of ./notMNIST_small.tar.gz.\n",
      "['./notMNIST_small/A', './notMNIST_small/B', './notMNIST_small/C', './notMNIST_small/D', './notMNIST_small/E', './notMNIST_small/F', './notMNIST_small/G', './notMNIST_small/H', './notMNIST_small/I', './notMNIST_small/J']\n"
     ]
    }
   ],
   "source": [
    "num_classes = 10\n",
    "np.random.seed(133)\n",
    "\n",
    "def maybe_extract(filename, force=False):\n",
    "  root = os.path.splitext(os.path.splitext(filename)[0])[0]  # remove .tar.gz\n",
    "  if os.path.isdir(root) and not force:\n",
    "    # You may override by setting force=True.\n",
    "    print('%s already present - Skipping extraction of %s.' % (root, filename))\n",
    "  else:\n",
    "    print('Extracting data for %s. This may take a while. Please wait.' % root)\n",
    "    tar = tarfile.open(filename)\n",
    "    sys.stdout.flush()\n",
    "    tar.extractall(data_root)\n",
    "    tar.close()\n",
    "  data_folders = [\n",
    "    os.path.join(root, d) for d in sorted(os.listdir(root))\n",
    "    if os.path.isdir(os.path.join(root, d))]\n",
    "  if len(data_folders) != num_classes:\n",
    "    raise Exception(\n",
    "      'Expected %d folders, one per class. Found %d instead.' % (\n",
    "        num_classes, len(data_folders)))\n",
    "  print(data_folders)\n",
    "  return data_folders\n",
    "  \n",
    "train_folders = maybe_extract(train_filename)\n",
    "test_folders = maybe_extract(test_filename)"
   ]
  },
  {
   "cell_type": "markdown",
   "metadata": {
    "colab_type": "text",
    "id": "4riXK3IoHgx6"
   },
   "source": [
    "---\n",
    "Problem 1\n",
    "---------\n",
    "\n",
    "Let's take a peek at some of the data to make sure it looks sensible. Each exemplar should be an image of a character A through J rendered in a different font. Display a sample of the images that we just downloaded. Hint: you can use the package IPython.display.\n",
    "\n",
    "---"
   ]
  },
  {
   "cell_type": "markdown",
   "metadata": {
    "colab_type": "text",
    "id": "PBdkjESPK8tw"
   },
   "source": [
    "Now let's load the data in a more manageable format. Since, depending on your computer setup you might not be able to fit it all in memory, we'll load each class into a separate dataset, store them on disk and curate them independently. Later we'll merge them into a single dataset of manageable size.\n",
    "\n",
    "We'll convert the entire dataset into a 3D array (image index, x, y) of floating point values, normalized to have approximately zero mean and standard deviation ~0.5 to make training easier down the road. \n",
    "\n",
    "A few images might not be readable, we'll just skip them."
   ]
  },
  {
   "cell_type": "code",
   "execution_count": 4,
   "metadata": {
    "cellView": "both",
    "colab": {
     "autoexec": {
      "startup": false,
      "wait_interval": 0
     },
     "output_extras": [
      {
       "item_id": 30
      }
     ]
    },
    "colab_type": "code",
    "executionInfo": {
     "elapsed": 399874,
     "status": "ok",
     "timestamp": 1444485886378,
     "user": {
      "color": "#1FA15D",
      "displayName": "Vincent Vanhoucke",
      "isAnonymous": false,
      "isMe": true,
      "permissionId": "05076109866853157986",
      "photoUrl": "//lh6.googleusercontent.com/-cCJa7dTDcgQ/AAAAAAAAAAI/AAAAAAAACgw/r2EZ_8oYer4/s50-c-k-no/photo.jpg",
      "sessionId": "2a0a5e044bb03b66",
      "userId": "102167687554210253930"
     },
     "user_tz": 420
    },
    "id": "h7q0XhG3MJdf",
    "outputId": "92c391bb-86ff-431d-9ada-315568a19e59"
   },
   "outputs": [
    {
     "name": "stdout",
     "output_type": "stream",
     "text": [
      "./notMNIST_large/A.pickle already present - Skipping pickling.\n",
      "./notMNIST_large/B.pickle already present - Skipping pickling.\n",
      "./notMNIST_large/C.pickle already present - Skipping pickling.\n",
      "./notMNIST_large/D.pickle already present - Skipping pickling.\n",
      "./notMNIST_large/E.pickle already present - Skipping pickling.\n",
      "./notMNIST_large/F.pickle already present - Skipping pickling.\n",
      "./notMNIST_large/G.pickle already present - Skipping pickling.\n",
      "./notMNIST_large/H.pickle already present - Skipping pickling.\n",
      "./notMNIST_large/I.pickle already present - Skipping pickling.\n",
      "./notMNIST_large/J.pickle already present - Skipping pickling.\n",
      "./notMNIST_small/A.pickle already present - Skipping pickling.\n",
      "./notMNIST_small/B.pickle already present - Skipping pickling.\n",
      "./notMNIST_small/C.pickle already present - Skipping pickling.\n",
      "./notMNIST_small/D.pickle already present - Skipping pickling.\n",
      "./notMNIST_small/E.pickle already present - Skipping pickling.\n",
      "./notMNIST_small/F.pickle already present - Skipping pickling.\n",
      "./notMNIST_small/G.pickle already present - Skipping pickling.\n",
      "./notMNIST_small/H.pickle already present - Skipping pickling.\n",
      "./notMNIST_small/I.pickle already present - Skipping pickling.\n",
      "./notMNIST_small/J.pickle already present - Skipping pickling.\n"
     ]
    }
   ],
   "source": [
    "image_size = 28  # Pixel width and height.\n",
    "pixel_depth = 255.0  # Number of levels per pixel.\n",
    "\n",
    "def load_letter(folder, min_num_images):\n",
    "  \"\"\"Load the data for a single letter label.\"\"\"\n",
    "  image_files = os.listdir(folder)\n",
    "  dataset = np.ndarray(shape=(len(image_files), image_size, image_size),\n",
    "                         dtype=np.float32)\n",
    "  print(folder)\n",
    "  num_images = 0\n",
    "  for image in image_files:\n",
    "    image_file = os.path.join(folder, image)\n",
    "    try:\n",
    "      image_data = (imageio.imread(image_file).astype(float) - \n",
    "                    pixel_depth / 2) / pixel_depth\n",
    "      if image_data.shape != (image_size, image_size):\n",
    "        raise Exception('Unexpected image shape: %s' % str(image_data.shape))\n",
    "      dataset[num_images, :, :] = image_data\n",
    "      num_images = num_images + 1\n",
    "    except (IOError, ValueError) as e:\n",
    "      print('Could not read:', image_file, ':', e, '- it\\'s ok, skipping.')\n",
    "    \n",
    "  dataset = dataset[0:num_images, :, :]\n",
    "  if num_images < min_num_images:\n",
    "    raise Exception('Many fewer images than expected: %d < %d' %\n",
    "                    (num_images, min_num_images))\n",
    "    \n",
    "  print('Full dataset tensor:', dataset.shape)\n",
    "  print('Mean:', np.mean(dataset))\n",
    "  print('Standard deviation:', np.std(dataset))\n",
    "  return dataset\n",
    "        \n",
    "def maybe_pickle(data_folders, min_num_images_per_class, force=False):\n",
    "  dataset_names = []\n",
    "  for folder in data_folders:\n",
    "    set_filename = folder + '.pickle'\n",
    "    dataset_names.append(set_filename)\n",
    "    if os.path.exists(set_filename) and not force:\n",
    "      # You may override by setting force=True.\n",
    "      print('%s already present - Skipping pickling.' % set_filename)\n",
    "    else:\n",
    "      print('Pickling %s.' % set_filename)\n",
    "      dataset = load_letter(folder, min_num_images_per_class)\n",
    "      try:\n",
    "        with open(set_filename, 'wb') as f:\n",
    "          pickle.dump(dataset, f, pickle.HIGHEST_PROTOCOL)\n",
    "      except Exception as e:\n",
    "        print('Unable to save data to', set_filename, ':', e)\n",
    "  \n",
    "  return dataset_names\n",
    "\n",
    "train_datasets = maybe_pickle(train_folders, 45000)\n",
    "test_datasets = maybe_pickle(test_folders, 1800)"
   ]
  },
  {
   "cell_type": "code",
   "execution_count": 5,
   "metadata": {},
   "outputs": [],
   "source": [
    "import random\n",
    "\n",
    "def disp_samples(data_folders):\n",
    "  for folder in data_folders:\n",
    "    print(folder)\n",
    "    folder_path = folder + '.pickle'\n",
    "    with open(folder_path, 'rb') as f:\n",
    "        sample = pickle.load(f)\n",
    "        print(sample.shape[0])\n",
    "        size = sample.shape[0]\n",
    "\n",
    "        plt.imshow(sample[random.randint(0,size)])\n",
    "        plt.show()"
   ]
  },
  {
   "cell_type": "code",
   "execution_count": 6,
   "metadata": {},
   "outputs": [
    {
     "name": "stdout",
     "output_type": "stream",
     "text": [
      "./notMNIST_large/A\n",
      "52909\n"
     ]
    },
    {
     "data": {
      "image/png": "[encoded data removed]",
      "text/plain": [
       "<Figure size 432x288 with 1 Axes>"
      ]
     },
     "metadata": {},
     "output_type": "display_data"
    },
    {
     "name": "stdout",
     "output_type": "stream",
     "text": [
      "./notMNIST_large/B\n",
      "52911\n"
     ]
    },
    {
     "data": {
      "image/png": "[encoded data removed]",
      "text/plain": [
       "<Figure size 432x288 with 1 Axes>"
      ]
     },
     "metadata": {},
     "output_type": "display_data"
    },
    {
     "name": "stdout",
     "output_type": "stream",
     "text": [
      "./notMNIST_large/C\n",
      "52912\n"
     ]
    },
    {
     "data": {
      "image/png": "[encoded data removed]",
      "text/plain": [
       "<Figure size 432x288 with 1 Axes>"
      ]
     },
     "metadata": {},
     "output_type": "display_data"
    },
    {
     "name": "stdout",
     "output_type": "stream",
     "text": [
      "./notMNIST_large/D\n",
      "52911\n"
     ]
    },
    {
     "data": {
      "image/png": "[encoded data removed]",
      "text/plain": [
       "<Figure size 432x288 with 1 Axes>"
      ]
     },
     "metadata": {},
     "output_type": "display_data"
    },
    {
     "name": "stdout",
     "output_type": "stream",
     "text": [
      "./notMNIST_large/E\n",
      "52912\n"
     ]
    },
    {
     "data": {
      "image/png": "[encoded data removed]",
      "text/plain": [
       "<Figure size 432x288 with 1 Axes>"
      ]
     },
     "metadata": {},
     "output_type": "display_data"
    },
    {
     "name": "stdout",
     "output_type": "stream",
     "text": [
      "./notMNIST_large/F\n",
      "52912\n"
     ]
    },
    {
     "data": {
      "image/png": "[encoded data removed]",
      "text/plain": [
       "<Figure size 432x288 with 1 Axes>"
      ]
     },
     "metadata": {},
     "output_type": "display_data"
    },
    {
     "name": "stdout",
     "output_type": "stream",
     "text": [
      "./notMNIST_large/G\n",
      "52912\n"
     ]
    },
    {
     "data": {
      "image/png": "[encoded data removed]",
      "text/plain": [
       "<Figure size 432x288 with 1 Axes>"
      ]
     },
     "metadata": {},
     "output_type": "display_data"
    },
    {
     "name": "stdout",
     "output_type": "stream",
     "text": [
      "./notMNIST_large/H\n",
      "52912\n"
     ]
    },
    {
     "data": {
      "image/png": "[encoded data removed]",
      "text/plain": [
       "<Figure size 432x288 with 1 Axes>"
      ]
     },
     "metadata": {},
     "output_type": "display_data"
    },
    {
     "name": "stdout",
     "output_type": "stream",
     "text": [
      "./notMNIST_large/I\n",
      "52912\n"
     ]
    },
    {
     "data": {
      "image/png": "[encoded data removed]",
      "text/plain": [
       "<Figure size 432x288 with 1 Axes>"
      ]
     },
     "metadata": {},
     "output_type": "display_data"
    },
    {
     "name": "stdout",
     "output_type": "stream",
     "text": [
      "./notMNIST_large/J\n",
      "52911\n"
     ]
    },
    {
     "data": {
      "image/png": "[encoded data removed]",
      "text/plain": [
       "<Figure size 432x288 with 1 Axes>"
      ]
     },
     "metadata": {},
     "output_type": "display_data"
    },
    {
     "name": "stdout",
     "output_type": "stream",
     "text": [
      "./notMNIST_small/A\n",
      "1872\n"
     ]
    },
    {
     "data": {
      "image/png": "[encoded data removed]",
      "text/plain": [
       "<Figure size 432x288 with 1 Axes>"
      ]
     },
     "metadata": {},
     "output_type": "display_data"
    },
    {
     "name": "stdout",
     "output_type": "stream",
     "text": [
      "./notMNIST_small/B\n",
      "1873\n"
     ]
    },
    {
     "data": {
      "image/png": "[encoded data removed]",
      "text/plain": [
       "<Figure size 432x288 with 1 Axes>"
      ]
     },
     "metadata": {},
     "output_type": "display_data"
    },
    {
     "name": "stdout",
     "output_type": "stream",
     "text": [
      "./notMNIST_small/C\n",
      "1873\n"
     ]
    },
    {
     "data": {
      "image/png": "[encoded data removed]",
      "text/plain": [
       "<Figure size 432x288 with 1 Axes>"
      ]
     },
     "metadata": {},
     "output_type": "display_data"
    },
    {
     "name": "stdout",
     "output_type": "stream",
     "text": [
      "./notMNIST_small/D\n",
      "1873\n"
     ]
    },
    {
     "data": {
      "image/png": "[encoded data removed]",
      "text/plain": [
       "<Figure size 432x288 with 1 Axes>"
      ]
     },
     "metadata": {},
     "output_type": "display_data"
    },
    {
     "name": "stdout",
     "output_type": "stream",
     "text": [
      "./notMNIST_small/E\n",
      "1873\n"
     ]
    },
    {
     "data": {
      "image/png": "[encoded data removed]",
      "text/plain": [
       "<Figure size 432x288 with 1 Axes>"
      ]
     },
     "metadata": {},
     "output_type": "display_data"
    },
    {
     "name": "stdout",
     "output_type": "stream",
     "text": [
      "./notMNIST_small/F\n",
      "1872\n"
     ]
    },
    {
     "data": {
      "image/png": "[encoded data removed]",
      "text/plain": [
       "<Figure size 432x288 with 1 Axes>"
      ]
     },
     "metadata": {},
     "output_type": "display_data"
    },
    {
     "name": "stdout",
     "output_type": "stream",
     "text": [
      "./notMNIST_small/G\n",
      "1872\n"
     ]
    },
    {
     "data": {
      "image/png": "[encoded data removed]",
      "text/plain": [
       "<Figure size 432x288 with 1 Axes>"
      ]
     },
     "metadata": {},
     "output_type": "display_data"
    },
    {
     "name": "stdout",
     "output_type": "stream",
     "text": [
      "./notMNIST_small/H\n",
      "1872\n"
     ]
    },
    {
     "data": {
      "image/png": "[encoded data removed]",
      "text/plain": [
       "<Figure size 432x288 with 1 Axes>"
      ]
     },
     "metadata": {},
     "output_type": "display_data"
    },
    {
     "name": "stdout",
     "output_type": "stream",
     "text": [
      "./notMNIST_small/I\n",
      "1872\n"
     ]
    },
    {
     "data": {
      "image/png": "[encoded data removed]",
      "text/plain": [
       "<Figure size 432x288 with 1 Axes>"
      ]
     },
     "metadata": {},
     "output_type": "display_data"
    },
    {
     "name": "stdout",
     "output_type": "stream",
     "text": [
      "./notMNIST_small/J\n",
      "1872\n"
     ]
    },
    {
     "data": {
      "image/png": "[encoded data removed]",
      "text/plain": [
       "<Figure size 432x288 with 1 Axes>"
      ]
     },
     "metadata": {},
     "output_type": "display_data"
    }
   ],
   "source": [
    "disp_samples(train_folders)\n",
    "disp_samples(test_folders)"
   ]
  },
  {
   "cell_type": "markdown",
   "metadata": {
    "colab_type": "text",
    "id": "vUdbskYE2d87"
   },
   "source": [
    "---\n",
    "Problem 2\n",
    "---------\n",
    "\n",
    "Let's verify that the data still looks good. Displaying a sample of the labels and images from the ndarray. Hint: you can use matplotlib.pyplot.\n",
    "\n",
    "---"
   ]
  },
  {
   "cell_type": "code",
   "execution_count": 7,
   "metadata": {},
   "outputs": [],
   "source": [
    "def disp_sample_pickles(data_folders):\n",
    "    folder = random.sample(data_folders, 1)\n",
    "    print(folder)\n",
    "    folder_path = folder[0] + '.pickle'\n",
    "    dataset = pickle.load(open(folder_path,\"rb\"))\n",
    "    plt.suptitle(''.join(folder)[-1])\n",
    "    items = random.sample(list(dataset), 8)\n",
    "    for i, item in enumerate(items):\n",
    "        plt.subplot(2, 4, i+1)\n",
    "        plt.axis('off')\n",
    "        plt.imshow(item)"
   ]
  },
  {
   "cell_type": "code",
   "execution_count": 8,
   "metadata": {},
   "outputs": [
    {
     "name": "stdout",
     "output_type": "stream",
     "text": [
      "['./notMNIST_large/B']\n"
     ]
    },
    {
     "data": {
      "image/png": "[encoded data removed]",
      "text/plain": [
       "<Figure size 432x288 with 8 Axes>"
      ]
     },
     "metadata": {},
     "output_type": "display_data"
    }
   ],
   "source": [
    "disp_sample_pickles(train_folders)"
   ]
  },
  {
   "cell_type": "markdown",
   "metadata": {
    "colab_type": "text",
    "id": "cYznx5jUwzoO"
   },
   "source": [
    "---\n",
    "Problem 3\n",
    "---------\n",
    "Another check: we expect the data to be balanced across classes. Verify that.\n",
    "\n",
    "---"
   ]
  },
  {
   "cell_type": "code",
   "execution_count": 9,
   "metadata": {},
   "outputs": [],
   "source": [
    "# Check the data size of classes\n",
    "def show_size(data_folders):\n",
    "    for folder in data_folders:\n",
    "        folder_path = folder + '.pickle'\n",
    "        sample = pickle.load(open(folder_path,\"rb\"))\n",
    "        print('The size of '+ folder +' is:' + str(sample.shape[0]))"
   ]
  },
  {
   "cell_type": "code",
   "execution_count": 10,
   "metadata": {},
   "outputs": [
    {
     "name": "stdout",
     "output_type": "stream",
     "text": [
      "The size of ./notMNIST_large/A is:52909\n",
      "The size of ./notMNIST_large/B is:52911\n",
      "The size of ./notMNIST_large/C is:52912\n",
      "The size of ./notMNIST_large/D is:52911\n",
      "The size of ./notMNIST_large/E is:52912\n",
      "The size of ./notMNIST_large/F is:52912\n",
      "The size of ./notMNIST_large/G is:52912\n",
      "The size of ./notMNIST_large/H is:52912\n",
      "The size of ./notMNIST_large/I is:52912\n",
      "The size of ./notMNIST_large/J is:52911\n",
      "The size of ./notMNIST_small/A is:1872\n",
      "The size of ./notMNIST_small/B is:1873\n",
      "The size of ./notMNIST_small/C is:1873\n",
      "The size of ./notMNIST_small/D is:1873\n",
      "The size of ./notMNIST_small/E is:1873\n",
      "The size of ./notMNIST_small/F is:1872\n",
      "The size of ./notMNIST_small/G is:1872\n",
      "The size of ./notMNIST_small/H is:1872\n",
      "The size of ./notMNIST_small/I is:1872\n",
      "The size of ./notMNIST_small/J is:1872\n"
     ]
    }
   ],
   "source": [
    "show_size(train_folders)\n",
    "show_size(test_folders)"
   ]
  },
  {
   "cell_type": "markdown",
   "metadata": {
    "colab_type": "text",
    "id": "LA7M7K22ynCt"
   },
   "source": [
    "Merge and prune the training data as needed. Depending on your computer setup, you might not be able to fit it all in memory, and you can tune `train_size` as needed. The labels will be stored into a separate array of integers 0 through 9.\n",
    "\n",
    "Also create a validation dataset for hyperparameter tuning."
   ]
  },
  {
   "cell_type": "code",
   "execution_count": 11,
   "metadata": {
    "cellView": "both",
    "colab": {
     "autoexec": {
      "startup": false,
      "wait_interval": 0
     },
     "output_extras": [
      {
       "item_id": 1
      }
     ]
    },
    "colab_type": "code",
    "executionInfo": {
     "elapsed": 411281,
     "status": "ok",
     "timestamp": 1444485897869,
     "user": {
      "color": "#1FA15D",
      "displayName": "Vincent Vanhoucke",
      "isAnonymous": false,
      "isMe": true,
      "permissionId": "05076109866853157986",
      "photoUrl": "//lh6.googleusercontent.com/-cCJa7dTDcgQ/AAAAAAAAAAI/AAAAAAAACgw/r2EZ_8oYer4/s50-c-k-no/photo.jpg",
      "sessionId": "2a0a5e044bb03b66",
      "userId": "102167687554210253930"
     },
     "user_tz": 420
    },
    "id": "s3mWgZLpyuzq",
    "outputId": "8af66da6-902d-4719-bedc-7c9fb7ae7948"
   },
   "outputs": [
    {
     "name": "stdout",
     "output_type": "stream",
     "text": [
      "10000\n",
      "(10000, 28, 28)\n",
      "(10000,)\n",
      "200000\n",
      "(200000, 28, 28)\n",
      "(200000,)\n",
      "10000\n",
      "(10000, 28, 28)\n",
      "(10000,)\n",
      "Training: (200000, 28, 28) (200000,)\n",
      "Validation: (10000, 28, 28) (10000,)\n",
      "Testing: (10000, 28, 28) (10000,)\n"
     ]
    }
   ],
   "source": [
    "def make_arrays(nb_rows, img_size):\n",
    "  if nb_rows:\n",
    "    print(nb_rows)\n",
    "    dataset = np.ndarray((nb_rows, img_size, img_size), dtype=np.float32)\n",
    "    print(dataset.shape)\n",
    "    labels = np.ndarray(nb_rows, dtype=np.int32)\n",
    "    print(labels.shape)\n",
    "  else:\n",
    "    dataset, labels = None, None\n",
    "  return dataset, labels\n",
    "\n",
    "def merge_datasets(pickle_files, train_size, valid_size=0):\n",
    "  num_classes = len(pickle_files)\n",
    "  valid_dataset, valid_labels = make_arrays(valid_size, image_size)\n",
    "  train_dataset, train_labels = make_arrays(train_size, image_size)\n",
    "  vsize_per_class = valid_size // num_classes\n",
    "  tsize_per_class = train_size // num_classes\n",
    "    \n",
    "  start_v, start_t = 0, 0\n",
    "  end_v, end_t = vsize_per_class, tsize_per_class\n",
    "  end_l = vsize_per_class+tsize_per_class\n",
    "  for label, pickle_file in enumerate(pickle_files):       \n",
    "    try:\n",
    "      with open(pickle_file, 'rb') as f:\n",
    "        letter_set = pickle.load(f)\n",
    "        # let's shuffle the letters to have random validation and training set\n",
    "        np.random.shuffle(letter_set)\n",
    "        if valid_dataset is not None:\n",
    "          valid_letter = letter_set[:vsize_per_class, :, :]\n",
    "          valid_dataset[start_v:end_v, :, :] = valid_letter\n",
    "          valid_labels[start_v:end_v] = label\n",
    "          start_v += vsize_per_class\n",
    "          end_v += vsize_per_class\n",
    "                    \n",
    "        train_letter = letter_set[vsize_per_class:end_l, :, :]\n",
    "        train_dataset[start_t:end_t, :, :] = train_letter\n",
    "        train_labels[start_t:end_t] = label\n",
    "        start_t += tsize_per_class\n",
    "        end_t += tsize_per_class\n",
    "    except Exception as e:\n",
    "      print('Unable to process data from', pickle_file, ':', e)\n",
    "      raise\n",
    "    \n",
    "  return valid_dataset, valid_labels, train_dataset, train_labels\n",
    "            \n",
    "            \n",
    "train_size = 200000\n",
    "valid_size = 10000\n",
    "test_size = 10000\n",
    "\n",
    "valid_dataset, valid_labels, train_dataset, train_labels = merge_datasets(\n",
    "  train_datasets, train_size, valid_size)\n",
    "_, _, test_dataset, test_labels = merge_datasets(test_datasets, test_size)\n",
    "\n",
    "print('Training:', train_dataset.shape, train_labels.shape)\n",
    "print('Validation:', valid_dataset.shape, valid_labels.shape)\n",
    "print('Testing:', test_dataset.shape, test_labels.shape)"
   ]
  },
  {
   "cell_type": "markdown",
   "metadata": {
    "colab_type": "text",
    "id": "GPTCnjIcyuKN"
   },
   "source": [
    "Next, we'll randomize the data. It's important to have the labels well shuffled for the training and test distributions to match."
   ]
  },
  {
   "cell_type": "code",
   "execution_count": 12,
   "metadata": {
    "cellView": "both",
    "colab": {
     "autoexec": {
      "startup": false,
      "wait_interval": 0
     }
    },
    "colab_type": "code",
    "id": "6WZ2l2tN2zOL"
   },
   "outputs": [
    {
     "name": "stdout",
     "output_type": "stream",
     "text": [
      "[ 82544 184777 127251 ...  54720  86392  96194]\n",
      "[3480 6566 4543 ... 6790 9016  268]\n",
      "[1927 9112 3615 ... 8250 9495 8617]\n"
     ]
    }
   ],
   "source": [
    "def randomize(dataset, labels):\n",
    "  permutation = np.random.permutation(labels.shape[0])\n",
    "  print(permutation)\n",
    "  shuffled_dataset = dataset[permutation,:,:]\n",
    "  shuffled_labels = labels[permutation]\n",
    "  return shuffled_dataset, shuffled_labels\n",
    "train_dataset, train_labels = randomize(train_dataset, train_labels)\n",
    "test_dataset, test_labels = randomize(test_dataset, test_labels)\n",
    "valid_dataset, valid_labels = randomize(valid_dataset, valid_labels)"
   ]
  },
  {
   "cell_type": "code",
   "execution_count": 13,
   "metadata": {},
   "outputs": [],
   "source": [
    "num2letter = {0: 'A', 1: 'B', 2: 'C', 3: 'D', 4: 'E', 5: 'F', 6: 'G', 7: 'H', 8: 'I', 9: 'J'}"
   ]
  },
  {
   "cell_type": "code",
   "execution_count": 14,
   "metadata": {},
   "outputs": [
    {
     "name": "stdout",
     "output_type": "stream",
     "text": [
      "F\n"
     ]
    },
    {
     "data": {
      "image/png": "[encoded data removed]",
      "text/plain": [
       "<Figure size 432x288 with 1 Axes>"
      ]
     },
     "metadata": {},
     "output_type": "display_data"
    }
   ],
   "source": [
    "import random\n",
    "\n",
    "test = random.randint(0,200000)\n",
    "plt.imshow(train_dataset[test])\n",
    "print(num2letter[train_labels[test]])"
   ]
  },
  {
   "cell_type": "markdown",
   "metadata": {
    "colab_type": "text",
    "id": "puDUTe6t6USl"
   },
   "source": [
    "---\n",
    "Problem 4\n",
    "---------\n",
    "Convince yourself that the data is still good after shuffling!\n",
    "\n",
    "---"
   ]
  },
  {
   "cell_type": "code",
   "execution_count": 15,
   "metadata": {},
   "outputs": [],
   "source": [
    "def disp_sample_dataset(dataset, labels):\n",
    "  items = random.sample(range(len(labels)), 8)\n",
    "  for i, item in enumerate(items):\n",
    "    plt.subplot(2, 4, i+1)\n",
    "    plt.axis('off')\n",
    "    plt.title(num2letter[labels[item]])\n",
    "    plt.imshow(dataset[item])"
   ]
  },
  {
   "cell_type": "code",
   "execution_count": 16,
   "metadata": {},
   "outputs": [
    {
     "data": {
      "image/png": "[encoded data removed]",
      "text/plain": [
       "<Figure size 432x288 with 8 Axes>"
      ]
     },
     "metadata": {},
     "output_type": "display_data"
    }
   ],
   "source": [
    "disp_sample_dataset(train_dataset, train_labels)"
   ]
  },
  {
   "cell_type": "code",
   "execution_count": 17,
   "metadata": {},
   "outputs": [
    {
     "data": {
      "image/png": "[encoded data removed]",
      "text/plain": [
       "<Figure size 432x288 with 8 Axes>"
      ]
     },
     "metadata": {},
     "output_type": "display_data"
    }
   ],
   "source": [
    "disp_sample_dataset(test_dataset, test_labels)"
   ]
  },
  {
   "cell_type": "code",
   "execution_count": 18,
   "metadata": {},
   "outputs": [
    {
     "data": {
      "image/png": "[encoded data removed]",
      "text/plain": [
       "<Figure size 432x288 with 8 Axes>"
      ]
     },
     "metadata": {},
     "output_type": "display_data"
    }
   ],
   "source": [
    "disp_sample_dataset(valid_dataset, valid_labels)"
   ]
  },
  {
   "cell_type": "markdown",
   "metadata": {
    "colab_type": "text",
    "id": "tIQJaJuwg5Hw"
   },
   "source": [
    "Finally, let's save the data for later reuse:"
   ]
  },
  {
   "cell_type": "code",
   "execution_count": 19,
   "metadata": {
    "cellView": "both",
    "colab": {
     "autoexec": {
      "startup": false,
      "wait_interval": 0
     }
    },
    "colab_type": "code",
    "id": "QiR_rETzem6C"
   },
   "outputs": [],
   "source": [
    "pickle_file = os.path.join(data_root, 'notMNIST.pickle')\n",
    "\n",
    "try:\n",
    "  f = open(pickle_file, 'wb')\n",
    "  save = {\n",
    "    'train_dataset': train_dataset,\n",
    "    'train_labels': train_labels,\n",
    "    'valid_dataset': valid_dataset,\n",
    "    'valid_labels': valid_labels,\n",
    "    'test_dataset': test_dataset,\n",
    "    'test_labels': test_labels,\n",
    "    }\n",
    "  pickle.dump(save, f, pickle.HIGHEST_PROTOCOL)\n",
    "  f.close()\n",
    "except Exception as e:\n",
    "  print('Unable to save data to', pickle_file, ':', e)\n",
    "  raise"
   ]
  },
  {
   "cell_type": "code",
   "execution_count": 20,
   "metadata": {
    "cellView": "both",
    "colab": {
     "autoexec": {
      "startup": false,
      "wait_interval": 0
     },
     "output_extras": [
      {
       "item_id": 1
      }
     ]
    },
    "colab_type": "code",
    "executionInfo": {
     "elapsed": 413065,
     "status": "ok",
     "timestamp": 1444485899688,
     "user": {
      "color": "#1FA15D",
      "displayName": "Vincent Vanhoucke",
      "isAnonymous": false,
      "isMe": true,
      "permissionId": "05076109866853157986",
      "photoUrl": "//lh6.googleusercontent.com/-cCJa7dTDcgQ/AAAAAAAAAAI/AAAAAAAACgw/r2EZ_8oYer4/s50-c-k-no/photo.jpg",
      "sessionId": "2a0a5e044bb03b66",
      "userId": "102167687554210253930"
     },
     "user_tz": 420
    },
    "id": "hQbLjrW_iT39",
    "outputId": "b440efc6-5ee1-4cbc-d02d-93db44ebd956"
   },
   "outputs": [
    {
     "name": "stdout",
     "output_type": "stream",
     "text": [
      "Compressed pickle size: 690800506\n"
     ]
    }
   ],
   "source": [
    "statinfo = os.stat(pickle_file)\n",
    "print('Compressed pickle size:', statinfo.st_size)"
   ]
  },
  {
   "cell_type": "markdown",
   "metadata": {
    "colab_type": "text",
    "id": "gE_cRAQB33lk"
   },
   "source": [
    "---\n",
    "Problem 5\n",
    "---------\n",
    "\n",
    "By construction, this dataset might contain a lot of overlapping samples, including training data that's also contained in the validation and test set! Overlap between training and test can skew the results if you expect to use your model in an environment where there is never an overlap, but are actually ok if you expect to see training samples recur when you use it.\n",
    "Measure how much overlap there is between training, validation and test samples.\n",
    "\n",
    "Optional questions:\n",
    "- What about near duplicates between datasets? (images that are almost identical)\n",
    "- Create a sanitized validation and test set, and compare your accuracy on those in subsequent assignments.\n",
    "---"
   ]
  },
  {
   "cell_type": "code",
   "execution_count": 21,
   "metadata": {},
   "outputs": [],
   "source": [
    "import hashlib\n",
    "\n",
    "# Judge the overlap imgs by md5, which is faster than np function\n",
    "def overlap_measure_md5(dataset1, dataset2):\n",
    "    dataset_md5_1 = np.array([hashlib.md5(img).hexdigest() for img in dataset1])\n",
    "    dataset_md5_2 = np.array([hashlib.md5(img).hexdigest() for img in dataset2])\n",
    "    overlap = {}\n",
    "    for i, md5_1 in enumerate(dataset_md5_1):\n",
    "        duplicates = np.where(dataset_md5_2 == md5_1)\n",
    "        if len(duplicates[0]):\n",
    "          overlap[i] = duplicates[0]\n",
    "    return overlap"
   ]
  },
  {
   "cell_type": "code",
   "execution_count": 22,
   "metadata": {},
   "outputs": [
    {
     "name": "stdout",
     "output_type": "stream",
     "text": [
      "CPU times: user 30.8 s, sys: 296 ms, total: 31.1 s\n",
      "Wall time: 32.2 s\n"
     ]
    }
   ],
   "source": [
    "%time overlap_test_train = overlap_measure_md5(test_dataset, train_dataset)"
   ]
  },
  {
   "cell_type": "code",
   "execution_count": 23,
   "metadata": {},
   "outputs": [
    {
     "name": "stdout",
     "output_type": "stream",
     "text": [
      "Number of overlaps: 1258\n"
     ]
    }
   ],
   "source": [
    "print('Number of overlaps:', len(overlap_test_train.keys()))"
   ]
  },
  {
   "cell_type": "code",
   "execution_count": 24,
   "metadata": {},
   "outputs": [
    {
     "name": "stdout",
     "output_type": "stream",
     "text": [
      "CPU times: user 1.08 s, sys: 10.2 ms, total: 1.09 s\n",
      "Wall time: 1.15 s\n"
     ]
    }
   ],
   "source": [
    "%time overlap_test_val = overlap_measure_md5(test_dataset, valid_dataset)"
   ]
  },
  {
   "cell_type": "code",
   "execution_count": 25,
   "metadata": {},
   "outputs": [
    {
     "name": "stdout",
     "output_type": "stream",
     "text": [
      "Number of overlaps: 196\n"
     ]
    }
   ],
   "source": [
    "print('Number of overlaps:', len(overlap_test_val.keys()))"
   ]
  },
  {
   "cell_type": "code",
   "execution_count": 42,
   "metadata": {
    "scrolled": true
   },
   "outputs": [
    {
     "name": "stdout",
     "output_type": "stream",
     "text": [
      "dict_keys([15, 18, 40, 56, 58, 60, 65, 99, 110, 111, 113, 124, 126, 128, 130, 154, 155, 161, 163, 182, 187, 193, 206, 209, 215, 222, 223, 226, 261, 262, 264, 272, 273, 286, 298, 304, 306, 307, 318, 333, 338, 348, 354, 362, 375, 379, 383, 393, 405, 414, 418, 426, 427, 439, 446, 462, 465, 472, 478, 500, 503, 513, 517, 521, 522, 523, 529, 533, 535, 538, 547, 559, 562, 570, 585, 586, 589, 595, 599, 608, 612, 613, 617, 618, 626, 642, 645, 656, 663, 671, 690, 697, 714, 722, 730, 751, 752, 768, 780, 781, 783, 786, 790, 797, 798, 801, 812, 818, 819, 829, 830, 845, 857, 878, 883, 895, 903, 906, 919, 922, 946, 955, 972, 982, 988, 994, 998, 1001, 1004, 1006, 1014, 1018, 1031, 1038, 1046, 1052, 1053, 1055, 1062, 1064, 1065, 1075, 1085, 1087, 1103, 1109, 1116, 1119, 1157, 1167, 1172, 1176, 1178, 1199, 1200, 1249, 1251, 1269, 1275, 1284, 1291, 1297, 1310, 1316, 1323, 1326, 1327, 1331, 1338, 1341, 1359, 1364, 1374, 1376, 1380, 1392, 1393, 1403, 1405, 1411, 1417, 1423, 1427, 1442, 1446, 1448, 1449, 1450, 1456, 1460, 1466, 1468, 1470, 1480, 1507, 1515, 1516, 1517, 1519, 1522, 1524, 1525, 1537, 1548, 1551, 1554, 1557, 1563, 1564, 1579, 1581, 1585, 1608, 1620, 1639, 1660, 1667, 1674, 1678, 1681, 1700, 1705, 1708, 1714, 1720, 1724, 1730, 1736, 1746, 1749, 1752, 1764, 1768, 1776, 1777, 1780, 1781, 1791, 1792, 1796, 1810, 1842, 1847, 1850, 1897, 1906, 1921, 1924, 1928, 1932, 1934, 1937, 1939, 1953, 1960, 1961, 1972, 1975, 1989, 2000, 2009, 2013, 2018, 2033, 2034, 2045, 2052, 2057, 2061, 2062, 2067, 2068, 2072, 2082, 2086, 2089, 2100, 2102, 2105, 2116, 2128, 2129, 2132, 2145, 2158, 2162, 2168, 2178, 2182, 2189, 2198, 2204, 2231, 2239, 2249, 2250, 2253, 2266, 2269, 2271, 2292, 2295, 2298, 2305, 2317, 2319, 2342, 2348, 2354, 2355, 2365, 2380, 2383, 2385, 2392, 2397, 2399, 2404, 2405, 2411, 2421, 2432, 2448, 2453, 2457, 2461, 2470, 2477, 2508, 2512, 2517, 2523, 2526, 2527, 2529, 2530, 2546, 2559, 2574, 2594, 2606, 2608, 2610, 2620, 2621, 2637, 2639, 2640, 2646, 2652, 2657, 2667, 2672, 2673, 2676, 2691, 2704, 2705, 2710, 2714, 2719, 2725, 2735, 2742, 2747, 2752, 2754, 2761, 2789, 2798, 2805, 2808, 2809, 2812, 2822, 2836, 2840, 2848, 2853, 2857, 2861, 2862, 2866, 2874, 2884, 2897, 2900, 2901, 2912, 2913, 2923, 2941, 2960, 2973, 2978, 2984, 2990, 3009, 3032, 3047, 3060, 3067, 3072, 3088, 3102, 3114, 3122, 3125, 3134, 3138, 3140, 3148, 3149, 3172, 3179, 3188, 3200, 3211, 3216, 3219, 3242, 3243, 3251, 3253, 3260, 3274, 3275, 3290, 3305, 3309, 3334, 3350, 3351, 3363, 3367, 3374, 3376, 3378, 3408, 3412, 3413, 3414, 3420, 3429, 3449, 3451, 3457, 3479, 3482, 3483, 3497, 3502, 3503, 3525, 3536, 3548, 3552, 3565, 3567, 3584, 3586, 3602, 3612, 3618, 3621, 3632, 3633, 3641, 3658, 3664, 3669, 3675, 3679, 3684, 3686, 3696, 3700, 3720, 3728, 3729, 3732, 3735, 3743, 3755, 3760, 3764, 3765, 3768, 3775, 3783, 3790, 3804, 3811, 3813, 3835, 3857, 3859, 3866, 3874, 3886, 3902, 3937, 3969, 3971, 3976, 3986, 3988, 4008, 4028, 4035, 4043, 4054, 4057, 4064, 4071, 4074, 4076, 4079, 4080, 4099, 4103, 4129, 4142, 4171, 4175, 4182, 4186, 4197, 4198, 4211, 4215, 4220, 4246, 4254, 4260, 4271, 4279, 4288, 4303, 4305, 4306, 4312, 4318, 4332, 4334, 4347, 4366, 4371, 4381, 4410, 4411, 4420, 4422, 4423, 4427, 4438, 4445, 4479, 4488, 4489, 4492, 4493, 4501, 4533, 4536, 4538, 4539, 4550, 4562, 4564, 4565, 4603, 4614, 4615, 4632, 4646, 4668, 4669, 4678, 4681, 4682, 4684, 4694, 4704, 4707, 4709, 4711, 4719, 4725, 4727, 4729, 4735, 4743, 4756, 4759, 4761, 4788, 4794, 4795, 4799, 4834, 4836, 4841, 4855, 4858, 4870, 4893, 4898, 4903, 4906, 4908, 4925, 4934, 4935, 4939, 4962, 4965, 4973, 4991, 5004, 5006, 5008, 5010, 5027, 5037, 5059, 5084, 5094, 5102, 5109, 5119, 5127, 5130, 5134, 5136, 5146, 5147, 5156, 5161, 5163, 5164, 5166, 5173, 5202, 5203, 5236, 5242, 5258, 5270, 5275, 5276, 5277, 5281, 5287, 5299, 5306, 5307, 5310, 5312, 5335, 5340, 5346, 5348, 5353, 5357, 5370, 5395, 5413, 5417, 5432, 5437, 5439, 5440, 5443, 5451, 5453, 5454, 5463, 5466, 5488, 5497, 5500, 5507, 5513, 5515, 5527, 5553, 5560, 5571, 5575, 5582, 5586, 5589, 5602, 5641, 5654, 5666, 5679, 5682, 5709, 5720, 5728, 5731, 5733, 5734, 5742, 5765, 5772, 5777, 5778, 5780, 5786, 5790, 5794, 5821, 5830, 5836, 5837, 5846, 5847, 5852, 5858, 5862, 5880, 5882, 5926, 5927, 5931, 5940, 5947, 5962, 5972, 5984, 5989, 5990, 5998, 6021, 6026, 6031, 6043, 6054, 6062, 6067, 6070, 6073, 6074, 6095, 6096, 6103, 6140, 6144, 6161, 6168, 6173, 6202, 6204, 6207, 6249, 6253, 6261, 6277, 6287, 6294, 6299, 6301, 6314, 6346, 6360, 6361, 6366, 6370, 6373, 6412, 6427, 6429, 6430, 6431, 6436, 6438, 6446, 6452, 6468, 6480, 6486, 6488, 6499, 6502, 6507, 6518, 6521, 6528, 6534, 6546, 6548, 6550, 6551, 6557, 6558, 6561, 6566, 6570, 6572, 6617, 6641, 6646, 6651, 6658, 6664, 6672, 6673, 6696, 6703, 6716, 6729, 6731, 6732, 6741, 6756, 6766, 6777, 6789, 6790, 6798, 6800, 6802, 6807, 6816, 6821, 6824, 6829, 6832, 6835, 6841, 6847, 6888, 6889, 6903, 6908, 6915, 6918, 6919, 6920, 6945, 6950, 6978, 6988, 7013, 7023, 7031, 7036, 7040, 7061, 7070, 7072, 7082, 7085, 7087, 7091, 7094, 7095, 7098, 7100, 7105, 7109, 7114, 7118, 7119, 7129, 7150, 7155, 7166, 7171, 7182, 7188, 7217, 7218, 7219, 7221, 7227, 7229, 7232, 7237, 7257, 7258, 7265, 7287, 7297, 7306, 7311, 7319, 7327, 7334, 7335, 7345, 7351, 7364, 7370, 7374, 7379, 7392, 7399, 7419, 7420, 7426, 7437, 7440, 7441, 7450, 7453, 7468, 7469, 7474, 7482, 7483, 7488, 7493, 7497, 7519, 7520, 7525, 7527, 7532, 7537, 7542, 7545, 7550, 7555, 7583, 7591, 7592, 7598, 7602, 7607, 7610, 7611, 7618, 7624, 7628, 7632, 7634, 7644, 7651, 7654, 7655, 7660, 7661, 7663, 7673, 7676, 7689, 7691, 7692, 7702, 7707, 7711, 7715, 7744, 7756, 7762, 7763, 7771, 7778, 7780, 7784, 7787, 7791, 7812, 7820, 7822, 7843, 7853, 7858, 7876, 7886, 7889, 7919, 7944, 7954, 7973, 7981, 7984, 8002, 8007, 8020, 8028, 8029, 8036, 8039, 8050, 8056, 8062, 8078, 8085, 8094, 8101, 8104, 8113, 8117, 8124, 8131, 8132, 8140, 8147, 8151, 8156, 8160, 8173, 8178, 8181, 8182, 8189, 8190, 8193, 8194, 8199, 8212, 8228, 8240, 8249, 8257, 8267, 8269, 8272, 8273, 8274, 8321, 8322, 8324, 8336, 8340, 8341, 8348, 8352, 8387, 8413, 8415, 8427, 8432, 8434, 8436, 8450, 8467, 8472, 8473, 8480, 8488, 8489, 8491, 8499, 8503, 8510, 8530, 8535, 8540, 8545, 8558, 8559, 8563, 8571, 8582, 8597, 8615, 8627, 8630, 8635, 8643, 8644, 8649, 8653, 8654, 8668, 8670, 8682, 8690, 8691, 8699, 8704, 8711, 8716, 8724, 8737, 8740, 8743, 8754, 8755, 8756, 8761, 8774, 8800, 8802, 8803, 8809, 8812, 8814, 8815, 8833, 8834, 8851, 8852, 8870, 8873, 8875, 8876, 8899, 8906, 8910, 8914, 8917, 8927, 8932, 8935, 8949, 8956, 8962, 8985, 8999, 9015, 9026, 9027, 9051, 9060, 9067, 9075, 9086, 9097, 9099, 9107, 9111, 9114, 9117, 9120, 9122, 9127, 9140, 9141, 9143, 9149, 9150, 9177, 9184, 9192, 9208, 9213, 9216, 9217, 9223, 9229, 9250, 9252, 9256, 9263, 9277, 9300, 9308, 9337, 9340, 9352, 9357, 9359, 9360, 9361, 9362, 9366, 9381, 9384, 9394, 9403, 9412, 9418, 9421, 9433, 9437, 9444, 9451, 9452, 9454, 9468, 9471, 9473, 9475, 9479, 9480, 9481, 9503, 9504, 9515, 9522, 9538, 9542, 9543, 9548, 9569, 9578, 9580, 9599, 9602, 9608, 9616, 9624, 9631, 9638, 9640, 9644, 9661, 9663, 9669, 9687, 9703, 9708, 9709, 9712, 9715, 9726, 9733, 9737, 9740, 9742, 9743, 9752, 9760, 9761, 9764, 9765, 9767, 9770, 9774, 9777, 9782, 9785, 9789, 9791, 9812, 9814, 9819, 9820, 9822, 9835, 9848, 9850, 9858, 9859, 9868, 9872, 9890, 9900, 9907, 9911, 9914, 9918, 9924, 9925, 9934, 9950, 9951, 9955, 9961, 9969, 9978])\n"
     ]
    }
   ],
   "source": [
    "print(overlap_test_train.keys())"
   ]
  },
  {
   "cell_type": "code",
   "execution_count": 27,
   "metadata": {},
   "outputs": [
    {
     "name": "stdout",
     "output_type": "stream",
     "text": [
      "CPU times: user 17.8 s, sys: 50.2 ms, total: 17.9 s\n",
      "Wall time: 17.9 s\n"
     ]
    }
   ],
   "source": [
    "%time overlap_train_val = overlap_measure_md5(train_dataset, valid_dataset)"
   ]
  },
  {
   "cell_type": "code",
   "execution_count": 28,
   "metadata": {},
   "outputs": [
    {
     "name": "stdout",
     "output_type": "stream",
     "text": [
      "Number of overlaps: 3500\n"
     ]
    }
   ],
   "source": [
    "print('Number of overlaps:', len(overlap_train_val.keys()))"
   ]
  },
  {
   "cell_type": "markdown",
   "metadata": {},
   "source": [
    "My function for sanitizaion just deletes the duplicated img from either dataset, not consider near duplicates within the same dataset"
   ]
  },
  {
   "cell_type": "code",
   "execution_count": 43,
   "metadata": {},
   "outputs": [],
   "source": [
    "def overlap_kick_off(dataset1, dataset2, labels1):\n",
    "    dataset_md5_1 = np.array([hashlib.md5(img).hexdigest() for img in dataset1])\n",
    "    dataset_md5_2 = np.array([hashlib.md5(img).hexdigest() for img in dataset2])\n",
    "    overlap = [] \n",
    "    for i, md5_1 in enumerate(dataset_md5_1):\n",
    "        duplicates = np.where(dataset_md5_2 == md5_1)\n",
    "        if len(duplicates[0]):\n",
    "          overlap.append(i)\n",
    "    print('Delete '+ str(len(overlap)) + ' items')\n",
    "    return np.delete(dataset1, overlap, 0), np.delete(labels1, overlap, None)"
   ]
  },
  {
   "cell_type": "code",
   "execution_count": 44,
   "metadata": {},
   "outputs": [
    {
     "name": "stdout",
     "output_type": "stream",
     "text": [
      "(200000, 28, 28)\n",
      "(10000, 28, 28)\n",
      "(10000, 28, 28)\n",
      "200000\n",
      "10000\n"
     ]
    }
   ],
   "source": [
    "print(train_dataset.shape)\n",
    "print(test_dataset.shape)\n",
    "print(valid_dataset.shape)\n",
    "print(len(train_labels))\n",
    "print(len(test_labels))"
   ]
  },
  {
   "cell_type": "code",
   "execution_count": 31,
   "metadata": {},
   "outputs": [
    {
     "name": "stdout",
     "output_type": "stream",
     "text": [
      "Delete 3444 items\n",
      "Delete 1329 items\n",
      "Delete 196 items\n"
     ]
    }
   ],
   "source": [
    "train_dataset_sanitized, train_labels_sanitized = overlap_kick_off(train_dataset, test_dataset, train_labels)\n",
    "train_dataset_sanitized, train_labels_sanitized = overlap_kick_off(train_dataset_sanitized, valid_dataset, train_labels_sanitized)\n",
    "test_dataset_sanitized, test_labels_sanitized = overlap_kick_off(test_dataset, valid_dataset, test_labels)"
   ]
  },
  {
   "cell_type": "code",
   "execution_count": 32,
   "metadata": {},
   "outputs": [
    {
     "name": "stdout",
     "output_type": "stream",
     "text": [
      "(195227, 28, 28)\n",
      "(9804, 28, 28)\n",
      "195227\n",
      "9804\n"
     ]
    }
   ],
   "source": [
    "print(train_dataset_sanitized.shape)\n",
    "print(test_dataset_sanitized.shape)\n",
    "print(len(train_labels_sanitized))\n",
    "print(len(test_labels_sanitized))"
   ]
  },
  {
   "cell_type": "markdown",
   "metadata": {},
   "source": [
    "Save data as a pickle type"
   ]
  },
  {
   "cell_type": "code",
   "execution_count": 33,
   "metadata": {},
   "outputs": [],
   "source": [
    "pickle_file_sanitized = os.path.join(data_root, 'notMNIST_sanitized.pickle')\n",
    "\n",
    "try:\n",
    "  f = open(pickle_file_sanitized, 'wb')\n",
    "  save = {\n",
    "    'train_dataset': train_dataset_sanitized,\n",
    "    'train_labels': train_labels,\n",
    "    'valid_dataset': valid_dataset,\n",
    "    'valid_labels': valid_labels,\n",
    "    'test_dataset': test_dataset_sanitized,\n",
    "    'test_labels': test_labels_sanitized,\n",
    "    }\n",
    "  pickle.dump(save, f, pickle.HIGHEST_PROTOCOL)\n",
    "  f.close()\n",
    "except Exception as e:\n",
    "  print('Unable to save data to', pickle_file, ':', e)\n",
    "  raise"
   ]
  },
  {
   "cell_type": "code",
   "execution_count": 34,
   "metadata": {},
   "outputs": [
    {
     "name": "stdout",
     "output_type": "stream",
     "text": [
      "Compressed pickle size: 675216938\n"
     ]
    }
   ],
   "source": [
    "statinfo = os.stat(pickle_file_sanitized)\n",
    "print('Compressed pickle size:', statinfo.st_size)"
   ]
  },
  {
   "cell_type": "markdown",
   "metadata": {
    "colab_type": "text",
    "id": "L8oww1s4JMQx"
   },
   "source": [
    "---\n",
    "Problem 6\n",
    "---------\n",
    "\n",
    "Let's get an idea of what an off-the-shelf classifier can give you on this data. It's always good to check that there is something to learn, and that it's a problem that is not so trivial that a canned solution solves it.\n",
    "\n",
    "Train a simple model on this data using 50, 100, 1000 and 5000 training samples. Hint: you can use the LogisticRegression model from sklearn.linear_model.\n",
    "\n",
    "Optional question: train an off-the-shelf model on all the data!\n",
    "\n",
    "---"
   ]
  },
  {
   "cell_type": "markdown",
   "metadata": {},
   "source": [
    "I used keras not sklearn to build the logistic regression model"
   ]
  },
  {
   "cell_type": "code",
   "execution_count": 35,
   "metadata": {},
   "outputs": [
    {
     "name": "stderr",
     "output_type": "stream",
     "text": [
      "/anaconda3/lib/python3.6/site-packages/h5py/__init__.py:36: FutureWarning: Conversion of the second argument of issubdtype from `float` to `np.floating` is deprecated. In future, it will be treated as `np.float64 == np.dtype(float).type`.\n",
      "  from ._conv import register_converters as _register_converters\n",
      "Using TensorFlow backend.\n"
     ]
    }
   ],
   "source": [
    "from keras.utils import np_utils\n",
    "from keras.models import Sequential\n",
    "from keras.layers import Dense, Activation"
   ]
  },
  {
   "cell_type": "code",
   "execution_count": 36,
   "metadata": {},
   "outputs": [],
   "source": [
    "# Build model\n",
    "input_dim = 28*28\n",
    "output_dim = 10\n",
    "model = Sequential()\n",
    "model.add(Dense(output_dim, input_dim = input_dim, activation='softmax'))\n",
    "batch_size = 128\n",
    "epochs = 20"
   ]
  },
  {
   "cell_type": "code",
   "execution_count": 37,
   "metadata": {},
   "outputs": [],
   "source": [
    "# Process data\n",
    "X_train = train_dataset_sanitized.reshape(train_dataset_sanitized.shape[0],input_dim)\n",
    "X_test = test_dataset_sanitized.reshape(test_dataset_sanitized.shape[0], input_dim)\n",
    "X_val = valid_dataset.reshape(valid_dataset.shape[0], input_dim)\n",
    "Y_train = train_labels_sanitized.astype('float32')\n",
    "Y_test = test_labels_sanitized.astype('float32')\n",
    "Y_val = valid_labels.astype('float32')"
   ]
  },
  {
   "cell_type": "code",
   "execution_count": 38,
   "metadata": {},
   "outputs": [],
   "source": [
    "# Convert the labels to one-hot vector\n",
    "Y_train = np_utils.to_categorical(Y_train, num_classes=10) \n",
    "Y_test = np_utils.to_categorical(Y_test, num_classes=10)\n",
    "Y_val = np_utils.to_categorical(Y_val, num_classes=10)"
   ]
  },
  {
   "cell_type": "code",
   "execution_count": 40,
   "metadata": {},
   "outputs": [
    {
     "name": "stdout",
     "output_type": "stream",
     "text": [
      "Train on 195227 samples, validate on 10000 samples\n",
      "Epoch 1/20\n",
      "195227/195227 [==============================] - 3s 17us/step - loss: 0.8627 - acc: 0.7740 - val_loss: 0.7267 - val_acc: 0.8112\n",
      "Epoch 2/20\n",
      "195227/195227 [==============================] - 3s 15us/step - loss: 0.7049 - acc: 0.8131 - val_loss: 0.6915 - val_acc: 0.8201\n",
      "Epoch 3/20\n",
      "195227/195227 [==============================] - 3s 14us/step - loss: 0.6824 - acc: 0.8194 - val_loss: 0.6769 - val_acc: 0.8237\n",
      "Epoch 4/20\n",
      "195227/195227 [==============================] - 3s 14us/step - loss: 0.6709 - acc: 0.8220 - val_loss: 0.6678 - val_acc: 0.8263\n",
      "Epoch 5/20\n",
      "195227/195227 [==============================] - 3s 15us/step - loss: 0.6636 - acc: 0.8240 - val_loss: 0.6616 - val_acc: 0.8286\n",
      "Epoch 6/20\n",
      "195227/195227 [==============================] - 3s 14us/step - loss: 0.6584 - acc: 0.8254 - val_loss: 0.6575 - val_acc: 0.8274\n",
      "Epoch 7/20\n",
      "195227/195227 [==============================] - 3s 14us/step - loss: 0.6545 - acc: 0.8265 - val_loss: 0.6540 - val_acc: 0.8295\n",
      "Epoch 8/20\n",
      "195227/195227 [==============================] - 3s 14us/step - loss: 0.6513 - acc: 0.8275 - val_loss: 0.6505 - val_acc: 0.8304\n",
      "Epoch 9/20\n",
      "195227/195227 [==============================] - 3s 15us/step - loss: 0.6488 - acc: 0.8280 - val_loss: 0.6487 - val_acc: 0.8305\n",
      "Epoch 10/20\n",
      "195227/195227 [==============================] - 3s 16us/step - loss: 0.6466 - acc: 0.8287 - val_loss: 0.6471 - val_acc: 0.8298\n",
      "Epoch 11/20\n",
      "195227/195227 [==============================] - 3s 14us/step - loss: 0.6448 - acc: 0.8293 - val_loss: 0.6455 - val_acc: 0.8305\n",
      "Epoch 12/20\n",
      "195227/195227 [==============================] - 3s 14us/step - loss: 0.6432 - acc: 0.8300 - val_loss: 0.6432 - val_acc: 0.8314\n",
      "Epoch 13/20\n",
      "195227/195227 [==============================] - 3s 15us/step - loss: 0.6418 - acc: 0.8299 - val_loss: 0.6424 - val_acc: 0.8321\n",
      "Epoch 14/20\n",
      "195227/195227 [==============================] - 3s 16us/step - loss: 0.6406 - acc: 0.8304 - val_loss: 0.6416 - val_acc: 0.8314\n",
      "Epoch 15/20\n",
      "195227/195227 [==============================] - 3s 15us/step - loss: 0.6394 - acc: 0.8308 - val_loss: 0.6404 - val_acc: 0.8320\n",
      "Epoch 16/20\n",
      "195227/195227 [==============================] - 3s 14us/step - loss: 0.6385 - acc: 0.8307 - val_loss: 0.6394 - val_acc: 0.8326\n",
      "Epoch 17/20\n",
      "195227/195227 [==============================] - 3s 15us/step - loss: 0.6376 - acc: 0.8312 - val_loss: 0.6386 - val_acc: 0.8321\n",
      "Epoch 18/20\n",
      "195227/195227 [==============================] - 3s 16us/step - loss: 0.6368 - acc: 0.8313 - val_loss: 0.6391 - val_acc: 0.8319\n",
      "Epoch 19/20\n",
      "195227/195227 [==============================] - 3s 15us/step - loss: 0.6360 - acc: 0.8316 - val_loss: 0.6379 - val_acc: 0.8324\n",
      "Epoch 20/20\n",
      "195227/195227 [==============================] - 3s 17us/step - loss: 0.6354 - acc: 0.8319 - val_loss: 0.6370 - val_acc: 0.8332\n"
     ]
    }
   ],
   "source": [
    "model.compile(optimizer='sgd', loss='categorical_crossentropy',\n",
    "              metrics=['accuracy'])\n",
    "history = model.fit(X_train, Y_train,\n",
    "                   batch_size = batch_size,\n",
    "                   epochs = epochs,\n",
    "                   verbose = 1,\n",
    "                   validation_data = [X_val, Y_val])"
   ]
  },
  {
   "cell_type": "code",
   "execution_count": 41,
   "metadata": {},
   "outputs": [
    {
     "name": "stdout",
     "output_type": "stream",
     "text": [
      "Test score: 0.4222583609672285 Test accuracy: 0.8918808649530804\n"
     ]
    }
   ],
   "source": [
    "# Evaluate the model\n",
    "score = model.evaluate(X_test, Y_test, verbose=0)\n",
    "print('Test score:', score[0], 'Test accuracy:', score[1])"
   ]
  },
  {
   "cell_type": "code",
   "execution_count": null,
   "metadata": {},
   "outputs": [],
   "source": []
  }
 ],
 "metadata": {
  "colab": {
   "default_view": {},
   "name": "1_notmnist.ipynb",
   "provenance": [],
   "version": "0.3.2",
   "views": {}
  },
  "kernelspec": {
   "display_name": "Python 3",
   "language": "python",
   "name": "python3"
  },
  "language_info": {
   "codemirror_mode": {
    "name": "ipython",
    "version": 3
   },
   "file_extension": ".py",
   "mimetype": "text/x-python",
   "name": "python",
   "nbconvert_exporter": "python",
   "pygments_lexer": "ipython3",
   "version": "3.6.5"
  }
 },
 "nbformat": 4,
 "nbformat_minor": 1
}
